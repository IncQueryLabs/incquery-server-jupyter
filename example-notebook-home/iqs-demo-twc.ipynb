{
 "cells": [
  {
   "cell_type": "markdown",
   "metadata": {},
   "source": [
    "### Setup IQS Connection"
   ]
  },
  {
   "cell_type": "code",
   "execution_count": null,
   "metadata": {
    "scrolled": true
   },
   "outputs": [],
   "source": [
    "import iqs_jupyter\n",
    "iqs = iqs_jupyter.connect(\n",
    "    address='127.0.0.1:47700',\n",
    "    user='admin',\n",
    "    password='mypassword'\n",
    ")"
   ]
  },
  {
   "cell_type": "code",
   "execution_count": null,
   "metadata": {
    "scrolled": true
   },
   "outputs": [],
   "source": [
    "# one can already invoke operations on the server, e.g.\n",
    "iqs.repository.update_repository()"
   ]
  },
  {
   "cell_type": "markdown",
   "metadata": {},
   "source": [
    "### Select and load TWC Revision"
   ]
  },
  {
   "cell_type": "code",
   "execution_count": null,
   "metadata": {
    "scrolled": true
   },
   "outputs": [],
   "source": [
    "revision_selector = iqs.jupyter_tools.twc_revision_selector_widget()"
   ]
  },
  {
   "cell_type": "code",
   "execution_count": null,
   "metadata": {},
   "outputs": [],
   "source": [
    "iqs.persistent_index.index_revision(revision_selector.value())"
   ]
  },
  {
   "cell_type": "code",
   "execution_count": null,
   "metadata": {},
   "outputs": [],
   "source": [
    "iqs.in_memory_index.load_revision(revision_selector.value())"
   ]
  },
  {
   "cell_type": "markdown",
   "metadata": {},
   "source": [
    "### Register and Execute Query"
   ]
  },
  {
   "cell_type": "code",
   "execution_count": null,
   "metadata": {},
   "outputs": [],
   "source": [
    "iqs.queries.unregister_all_queries()"
   ]
  },
  {
   "cell_type": "code",
   "execution_count": null,
   "metadata": {},
   "outputs": [],
   "source": [
    "iqs.queries.register_queries_plain_text('''\n",
    "pattern dependencies(source : NamedElement, target : NamedElement) {\n",
    "  Dependency.supplier(dependency, target); Dependency.client(dependency, source);\n",
    "}\n",
    "''', query_package=\"iqs4twc.queries.example\")"
   ]
  },
  {
   "cell_type": "code",
   "execution_count": null,
   "metadata": {},
   "outputs": [],
   "source": [
    "qResults = iqs.query_execution.execute_query({\n",
    "  \"revisionDescriptor\": revision_selector.value(),\n",
    "  \"queryFQN\": \"iqs4twc.queries.example.dependencies\"\n",
    "})"
   ]
  },
  {
   "cell_type": "markdown",
   "metadata": {},
   "source": [
    "### Process query results"
   ]
  },
  {
   "cell_type": "code",
   "execution_count": null,
   "metadata": {},
   "outputs": [],
   "source": [
    "qResults"
   ]
  },
  {
   "cell_type": "code",
   "execution_count": null,
   "metadata": {},
   "outputs": [],
   "source": [
    "qResults.to_list_of_matches()"
   ]
  },
  {
   "cell_type": "code",
   "execution_count": null,
   "metadata": {},
   "outputs": [],
   "source": [
    "first_result_element = qResults.to_list_of_matches()[0]['source']\n",
    "first_result_element # check element hover for element descriptor details"
   ]
  },
  {
   "cell_type": "code",
   "execution_count": null,
   "metadata": {},
   "outputs": [],
   "source": [
    "some_element = revision_selector.value().get_element_descriptor_by_id(\"c1be5a8c-a89e-40aa-87a8-8f7ef9527292\") # can also look up directly\n",
    "some_element"
   ]
  },
  {
   "cell_type": "code",
   "execution_count": null,
   "metadata": {},
   "outputs": [],
   "source": [
    "from iqs_jupyter import binding\n",
    "\n",
    "qResults_restricted = iqs.query_execution.execute_query({\n",
    "  \"revisionDescriptor\": revision_selector.value(),\n",
    "  \"queryFQN\": \"iqs4twc.queries.example.dependencies\",\n",
    "  \"parameterBinding\": binding(target=some_element)\n",
    "})\n",
    "qResults_restricted"
   ]
  },
  {
   "cell_type": "markdown",
   "metadata": {},
   "source": [
    "### Convert query results to Python/Jupyter-friendly Pandas dataframes and process them as such"
   ]
  },
  {
   "cell_type": "code",
   "execution_count": null,
   "metadata": {},
   "outputs": [],
   "source": [
    "qResults_df = qResults.to_data_frame()\n",
    "qResults_df"
   ]
  },
  {
   "cell_type": "code",
   "execution_count": null,
   "metadata": {},
   "outputs": [],
   "source": [
    "import cufflinks as cf\n",
    "cf.go_offline()"
   ]
  },
  {
   "cell_type": "code",
   "execution_count": null,
   "metadata": {},
   "outputs": [],
   "source": [
    "qResults_df.applymap(lambda element: element.element_id).source.value_counts().iplot(\n",
    "    kind='bar', filename='cufflinks/categorical-bar-chart/frequent_sources',\n",
    "    yTitle='Number of Dependencies', title='Dependencies from Source',\n",
    ")"
   ]
  },
  {
   "cell_type": "markdown",
   "metadata": {},
   "source": [
    "### Connect to OSMC and browse element details"
   ]
  },
  {
   "cell_type": "code",
   "execution_count": null,
   "metadata": {},
   "outputs": [],
   "source": [
    "osmc_connector = iqs_jupyter.OSMCConnectorWidget()"
   ]
  },
  {
   "cell_type": "code",
   "execution_count": null,
   "metadata": {},
   "outputs": [],
   "source": [
    "osmc = osmc_connector.connect()"
   ]
  },
  {
   "cell_type": "code",
   "execution_count": null,
   "metadata": {
    "scrolled": false
   },
   "outputs": [],
   "source": [
    "element_info = osmc.show_element_info_widget(first_result_element)\n",
    "element_info.display()"
   ]
  },
  {
   "cell_type": "code",
   "execution_count": null,
   "metadata": {
    "scrolled": true
   },
   "outputs": [],
   "source": [
    "element_info.selected_element()"
   ]
  },
  {
   "cell_type": "markdown",
   "metadata": {},
   "source": [
    "### Sandbox"
   ]
  },
  {
   "cell_type": "code",
   "execution_count": null,
   "metadata": {},
   "outputs": [],
   "source": []
  }
 ],
 "metadata": {
  "kernelspec": {
   "display_name": "Python 3",
   "language": "python",
   "name": "python3"
  },
  "language_info": {
   "codemirror_mode": {
    "name": "ipython",
    "version": 3
   },
   "file_extension": ".py",
   "mimetype": "text/x-python",
   "name": "python",
   "nbconvert_exporter": "python",
   "pygments_lexer": "ipython3",
   "version": "3.7.3"
  }
 },
 "nbformat": 4,
 "nbformat_minor": 2
}
