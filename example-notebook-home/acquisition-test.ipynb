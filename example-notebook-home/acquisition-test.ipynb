{
 "cells": [
  {
   "cell_type": "markdown",
   "metadata": {},
   "source": [
    "# Model Acquisition into IncQuery Server"
   ]
  },
  {
   "cell_type": "markdown",
   "metadata": {},
   "source": [
    "## Set up"
   ]
  },
  {
   "cell_type": "code",
   "execution_count": 1,
   "metadata": {},
   "outputs": [],
   "source": [
    "import iqs_jupyter\n",
    "from iqs_jupyter import schema\n",
    "iqs = iqs_jupyter.connect()"
   ]
  },
  {
   "cell_type": "markdown",
   "metadata": {},
   "source": [
    "## Optional: clean up"
   ]
  },
  {
   "cell_type": "code",
   "execution_count": 3,
   "metadata": {},
   "outputs": [
    {
     "data": {
      "text/html": [
       "<span title=\"{&#x27;message&#x27;: &#x27;complete&#x27;}\">complete <i>(see hover for details)</i></span>"
      ],
      "text/plain": [
       "{'message': 'complete'}"
      ]
     },
     "execution_count": 3,
     "metadata": {},
     "output_type": "execute_result"
    }
   ],
   "source": [
    "iqs.persistent_index.delete_all_persisted_model_compartments()\n",
    "iqs.in_memory_index.delete_all_inmemory_model_compartments()\n",
    "iqs.queries.unregister_all_queries()"
   ]
  },
  {
   "cell_type": "markdown",
   "metadata": {},
   "source": [
    "## Identify model by compartment URI, check URI is vacant, start acquisition"
   ]
  },
  {
   "cell_type": "code",
   "execution_count": 4,
   "metadata": {},
   "outputs": [],
   "source": [
    "model = schema.ModelCompartment(compartment_uri = \"foo:/bar/baz\")"
   ]
  },
  {
   "cell_type": "code",
   "execution_count": 5,
   "metadata": {},
   "outputs": [
    {
     "data": {
      "text/plain": [
       "True"
      ]
     },
     "execution_count": 5,
     "metadata": {},
     "output_type": "execute_result"
    }
   ],
   "source": [
    "model not in iqs.persistent_index.list_persisted_model_compartments().persisted_model_compartments"
   ]
  },
  {
   "cell_type": "code",
   "execution_count": 6,
   "metadata": {},
   "outputs": [
    {
     "data": {
      "text/plain": [
       "{'compartment_uri': 'foo:/bar/baz',\n",
       " 'write_handle': 'ecb35d3e-8b01-4ddc-946e-895a0aac7953'}"
      ]
     },
     "execution_count": 6,
     "metadata": {},
     "output_type": "execute_result"
    }
   ],
   "source": [
    "start_response = iqs.acquisition.start_acquisition(model)\n",
    "start_response"
   ]
  },
  {
   "cell_type": "markdown",
   "metadata": {},
   "source": [
    "## Upload model contents chunk by chunk"
   ]
  },
  {
   "cell_type": "code",
   "execution_count": 7,
   "metadata": {},
   "outputs": [],
   "source": [
    "chunk_data = {\n",
    "      \"elementStore\": [\n",
    "        {\n",
    "          \"classifier\": {\n",
    "            \"classifierName\": \"Class\",\n",
    "            \"packageNsUri\": \"http://www.nomagic.com/magicdraw/UML/2.5.1\"\n",
    "          },\n",
    "          \"elements\": [\n",
    "            {\n",
    "              \"compartmentURI\": \"foo:/bar/baz\",\n",
    "              \"relativeElementID\": \"class_Foo\"\n",
    "            },\n",
    "            {\n",
    "              \"compartmentURI\": \"foo:/bar/baz\",\n",
    "              \"relativeElementID\": \"class_Bar\"\n",
    "            }\n",
    "          ]\n",
    "        }\n",
    "      ],\n",
    "      \"attributeStore\": [\n",
    "        {\n",
    "          \"attribute\": {\n",
    "            \"name\": \"name\",\n",
    "            \"ownerProxy\": {\n",
    "              \"classifierName\": \"NamedElement\",\n",
    "              \"packageNsUri\": \"http://www.nomagic.com/magicdraw/UML/2.5.1\"\n",
    "            },\n",
    "              \"typeProxy\" : {\n",
    "                \"classifierName\" : \"String\",\n",
    "                \"packageNsUri\" : \"http://www.nomagic.com/magicdraw/UML/2.5.1\"\n",
    "              }\n",
    "          },\n",
    "          \"tuples\": [\n",
    "            {\n",
    "              \"source\": {\n",
    "                \"compartmentURI\": \"foo:/bar/baz\",\n",
    "                \"relativeElementID\": \"class_Foo\"\n",
    "              },\n",
    "              \"values\": [\n",
    "                \"Class Foo\"\n",
    "              ]\n",
    "            },\n",
    "            {\n",
    "              \"source\": {\n",
    "                \"compartmentURI\": \"foo:/bar/baz\",\n",
    "                \"relativeElementID\": \"class_Bar\"\n",
    "              },\n",
    "              \"values\": [\n",
    "                \"Class Bar\"\n",
    "              ]\n",
    "            }\n",
    "          ]\n",
    "        }\n",
    "      ],\n",
    "      \"referenceStore\": [\n",
    "        {\n",
    "          \"reference\": {\n",
    "              \"name\" : \"redefinedElement\",\n",
    "              \"ownerProxy\" : {\n",
    "                \"classifierName\" : \"RedefinableElement\",\n",
    "                \"packageNsUri\" : \"http://www.nomagic.com/magicdraw/UML/2.5.1\"\n",
    "              },\n",
    "              \"typeProxy\" : {\n",
    "                \"classifierName\" : \"RedefinableElement\",\n",
    "                \"packageNsUri\" : \"http://www.nomagic.com/magicdraw/UML/2.5.1\"\n",
    "              },\n",
    "              \"oppositeProxy\" : {\n",
    "                \"featureName\" : \"_redefinableElementOfRedefinedElement\",\n",
    "                \"featureKind\" : \"EREFERENCE\",\n",
    "                \"classifierProxy\" : {\n",
    "                  \"classifierName\" : \"RedefinableElement\",\n",
    "                  \"packageNsUri\" : \"http://www.nomagic.com/magicdraw/UML/2.5.1\"\n",
    "                }\n",
    "              }\n",
    "          },\n",
    "          \"tuples\": [\n",
    "            {\n",
    "              \"source\": {\n",
    "                \"compartmentURI\": \"foo:/bar/baz\",\n",
    "                \"relativeElementID\": \"class_Bar\"\n",
    "              },\n",
    "              \"targets\": [\n",
    "                {\n",
    "                  \"compartmentURI\": \"foo:/bar/baz\",\n",
    "                  \"relativeElementID\": \"class_Foo\"\n",
    "                }\n",
    "              ]\n",
    "            }\n",
    "          ]\n",
    "        }\n",
    "      ],\n",
    "      \"singleCompartment\": False\n",
    "    }"
   ]
  },
  {
   "cell_type": "code",
   "execution_count": 9,
   "metadata": {},
   "outputs": [
    {
     "data": {
      "text/html": [
       "<span title=\"{&#x27;message&#x27;: &#x27;Chuck received&#x27;}\">Chuck received <i>(see hover for details)</i></span>"
      ],
      "text/plain": [
       "{'message': 'Chuck received'}"
      ]
     },
     "execution_count": 9,
     "metadata": {},
     "output_type": "execute_result"
    }
   ],
   "source": [
    "chunk_request = schema.UploadChunkRequest(\n",
    "  data_chunk = schema.PersistIndexData(\n",
    "    write_handle = start_response.write_handle,\n",
    "    compartment_uri = start_response.compartment_uri,\n",
    "    index_data = chunk_data,\n",
    "    all_updates_from_primary_model = True\n",
    "  )\n",
    ")\n",
    "upload_response = iqs.acquisition.upload_acquisition_chunk(chunk_request)\n",
    "upload_response"
   ]
  },
  {
   "cell_type": "markdown",
   "metadata": {},
   "source": [
    "## Do not forget to close & save model when done (or discard if aborted)"
   ]
  },
  {
   "cell_type": "code",
   "execution_count": 10,
   "metadata": {},
   "outputs": [
    {
     "data": {
      "text/plain": [
       "{'write_handle': 'ecb35d3e-8b01-4ddc-946e-895a0aac7953'}"
      ]
     },
     "execution_count": 10,
     "metadata": {},
     "output_type": "execute_result"
    }
   ],
   "source": [
    "iqs.acquisition.close_acquisition(start_response)"
   ]
  },
  {
   "cell_type": "markdown",
   "metadata": {},
   "source": [
    "## Use newly acquired model on server"
   ]
  },
  {
   "cell_type": "code",
   "execution_count": 11,
   "metadata": {},
   "outputs": [
    {
     "data": {
      "text/plain": [
       "True"
      ]
     },
     "execution_count": 11,
     "metadata": {},
     "output_type": "execute_result"
    }
   ],
   "source": [
    "model in iqs.persistent_index.list_persisted_model_compartments().persisted_model_compartments"
   ]
  },
  {
   "cell_type": "code",
   "execution_count": 12,
   "metadata": {},
   "outputs": [
    {
     "data": {
      "text/html": [
       "<span title=\"{&#x27;message&#x27;: &#x27;completed&#x27;,\n",
       " &#x27;statistics&#x27;: {&#x27;attribute_store_size&#x27;: 1,\n",
       "                &#x27;attribute_store_tuples&#x27;: 2,\n",
       "                &#x27;direct_instances_store_size&#x27;: 2,\n",
       "                &#x27;element_store_size&#x27;: 1,\n",
       "                &#x27;element_store_tuples&#x27;: 2,\n",
       "                &#x27;merged_load_cost&#x27;: 2,\n",
       "                &#x27;merged_unique_elements&#x27;: 2,\n",
       "                &#x27;reference_store_size&#x27;: 1,\n",
       "                &#x27;reference_store_tuples&#x27;: 1}}\">completed <i>(see hover for details)</i></span>"
      ],
      "text/plain": [
       "{'message': 'completed',\n",
       " 'statistics': {'attribute_store_size': 1,\n",
       "                'attribute_store_tuples': 2,\n",
       "                'direct_instances_store_size': 2,\n",
       "                'element_store_size': 1,\n",
       "                'element_store_tuples': 2,\n",
       "                'merged_load_cost': 2,\n",
       "                'merged_unique_elements': 2,\n",
       "                'reference_store_size': 1,\n",
       "                'reference_store_tuples': 1}}"
      ]
     },
     "execution_count": 12,
     "metadata": {},
     "output_type": "execute_result"
    }
   ],
   "source": [
    "iqs.in_memory_index.load_model_compartment(model)"
   ]
  },
  {
   "cell_type": "code",
   "execution_count": 13,
   "metadata": {},
   "outputs": [],
   "source": [
    "test_query_package = \"test.queries\"\n",
    "test_query_main = \"test.queries.redefines\"\n",
    "test_query_code = '''\n",
    "\n",
    "pattern redefines(\n",
    "    src: Class, \n",
    "    srcName: java String, \n",
    "    trg: Class, \n",
    "    trgName: java String\n",
    ") {\n",
    "    RedefinableElement.redefinedElement(src, trg);\n",
    "    Class.name(src, srcName);\n",
    "    Class.name(trg, trgName);\n",
    "}\n",
    "'''"
   ]
  },
  {
   "cell_type": "code",
   "execution_count": 14,
   "metadata": {},
   "outputs": [],
   "source": [
    "if test_query_main not in iqs.queries.list_queries().viatra.query_fq_ns: # skip if already registered\n",
    "    try: \n",
    "        iqs.queries.register_queries_plain_text(test_query_code, query_package=test_query_package)\n",
    "    except: \n",
    "        print(\"Query registration not available as guest user; please try again in a few minutes\")\n",
    "else:\n",
    "    print(\"Query is already registered; proceed\")"
   ]
  },
  {
   "cell_type": "code",
   "execution_count": 15,
   "metadata": {},
   "outputs": [
    {
     "data": {
      "text/html": [
       "\n",
       "        <span title=\"{&#x27;binding&#x27;: [],\n",
       " &#x27;match_set_size&#x27;: 1,\n",
       " &#x27;matches&#x27;: [{&#x27;arguments&#x27;: [{&#x27;parameter&#x27;: &#x27;src&#x27;,\n",
       "                             &#x27;value&#x27;: {&#x27;compartmentURI&#x27;: &#x27;foo:/bar/baz&#x27;,\n",
       "                                       &#x27;relativeElementID&#x27;: &#x27;class_Bar&#x27;}},\n",
       "                            {&#x27;parameter&#x27;: &#x27;srcName&#x27;, &#x27;value&#x27;: &#x27;Class Bar&#x27;},\n",
       "                            {&#x27;parameter&#x27;: &#x27;trg&#x27;,\n",
       "                             &#x27;value&#x27;: {&#x27;compartmentURI&#x27;: &#x27;foo:/bar/baz&#x27;,\n",
       "                                       &#x27;relativeElementID&#x27;: &#x27;class_Foo&#x27;}},\n",
       "                            {&#x27;parameter&#x27;: &#x27;trgName&#x27;, &#x27;value&#x27;: &#x27;Class Foo&#x27;}]}],\n",
       " &#x27;query_fqn&#x27;: &#x27;test.queries.redefines&#x27;}\">1 match(es) of query 'test.queries.redefines' <i>(see hover for details)</i></span>\n",
       "        <div>\n",
       "        \n",
       "        <table border=\"1\">\n",
       "            <thead>\n",
       "                <tr style=\"text-align: right;\">\n",
       "                    <th></th>\n",
       "                    <th>src</th>  <th>srcName</th>  <th>trg</th>  <th>trgName</th> \n",
       "                </tr>\n",
       "                \n",
       "        <tr>\n",
       "            <th></th>\n",
       "            <td></td>  <td></td>  <td></td>  <td></td> \n",
       "        </tr>    \n",
       "    \n",
       "            </thead>\n",
       "            <tbody>\n",
       "                <tr><th>0</th> <td><span title=\"{&#x27;compartment_uri&#x27;: &#x27;foo:/bar/baz&#x27;, &#x27;relative_element_id&#x27;: &#x27;class_Bar&#x27;}\">element #class_Bar</span></td>  <td>Class Bar</td>  <td><span title=\"{&#x27;compartment_uri&#x27;: &#x27;foo:/bar/baz&#x27;, &#x27;relative_element_id&#x27;: &#x27;class_Foo&#x27;}\">element #class_Foo</span></td>  <td>Class Foo</td></tr>\n",
       "\n",
       "            </tbody>\n",
       "        </table>\n",
       "        </div>\n",
       "    "
      ],
      "text/plain": [
       "{'binding': [],\n",
       " 'match_set_size': 1,\n",
       " 'matches': [{'arguments': [{'parameter': 'src',\n",
       "                             'value': {'compartmentURI': 'foo:/bar/baz',\n",
       "                                       'relativeElementID': 'class_Bar'}},\n",
       "                            {'parameter': 'srcName', 'value': 'Class Bar'},\n",
       "                            {'parameter': 'trg',\n",
       "                             'value': {'compartmentURI': 'foo:/bar/baz',\n",
       "                                       'relativeElementID': 'class_Foo'}},\n",
       "                            {'parameter': 'trgName', 'value': 'Class Foo'}]}],\n",
       " 'query_fqn': 'test.queries.redefines'}"
      ]
     },
     "execution_count": 15,
     "metadata": {},
     "output_type": "execute_result"
    }
   ],
   "source": [
    "iqs.query_execution.execute_query_on_model_compartment(\n",
    "    schema.ExecuteQueryOnCompartmentRequest(model_compartment = model, query_fqn = test_query_main)\n",
    ")"
   ]
  },
  {
   "cell_type": "code",
   "execution_count": null,
   "metadata": {},
   "outputs": [],
   "source": []
  },
  {
   "cell_type": "code",
   "execution_count": null,
   "metadata": {},
   "outputs": [],
   "source": []
  }
 ],
 "metadata": {
  "kernelspec": {
   "display_name": "Python 3",
   "language": "python",
   "name": "python3"
  },
  "language_info": {
   "codemirror_mode": {
    "name": "ipython",
    "version": 3
   },
   "file_extension": ".py",
   "mimetype": "text/x-python",
   "name": "python",
   "nbconvert_exporter": "python",
   "pygments_lexer": "ipython3",
   "version": "3.7.3"
  }
 },
 "nbformat": 4,
 "nbformat_minor": 2
}
