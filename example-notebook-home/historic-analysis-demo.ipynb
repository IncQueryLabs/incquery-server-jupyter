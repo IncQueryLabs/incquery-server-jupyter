{
 "cells": [
  {
   "cell_type": "markdown",
   "metadata": {},
   "source": [
    "## Historic Analysis Demo"
   ]
  },
  {
   "cell_type": "markdown",
   "metadata": {},
   "source": [
    "### Preliminaries"
   ]
  },
  {
   "cell_type": "markdown",
   "metadata": {},
   "source": [
    "#### Setup IQS Connection"
   ]
  },
  {
   "cell_type": "markdown",
   "metadata": {},
   "source": [
    "Execute the following piece of code to connect to the desired IncQuery Server instance."
   ]
  },
  {
   "cell_type": "code",
   "execution_count": null,
   "metadata": {
    "scrolled": true
   },
   "outputs": [],
   "source": [
    "import iqs_jupyter\n",
    "iqs = iqs_jupyter.connect(\n",
    "    address='http://localhost:8082',\n",
    "    user='iqserver',\n",
    "    password='iqs'\n",
    ")"
   ]
  },
  {
   "cell_type": "markdown",
   "metadata": {},
   "source": [
    "#### Select model"
   ]
  },
  {
   "cell_type": "markdown",
   "metadata": {},
   "source": [
    "Select any revision in SST/Track 2 - Requirements V&V/master:"
   ]
  },
  {
   "cell_type": "code",
   "execution_count": null,
   "metadata": {
    "scrolled": true
   },
   "outputs": [],
   "source": [
    "selector = iqs.jupyter_tools.mms_commit_selector_widget()"
   ]
  },
  {
   "cell_type": "markdown",
   "metadata": {},
   "source": [
    "Indexed commits in selected ref:"
   ]
  },
  {
   "cell_type": "code",
   "execution_count": null,
   "metadata": {},
   "outputs": [],
   "source": [
    "def make_commit(value):\n",
    "    result = selector.value()\n",
    "    result.commit_id = value[\"commitId\"]\n",
    "    result.name = value[\"name\"]\n",
    "    return result\n",
    "\n",
    "commits = [make_commit(value) for value in selector.commit_map.values()]\n",
    "indexed_commits = [commit for commit in commits if commit.to_model_compartment().is_loaded_by_server(iqs)]\n",
    "\n",
    "org_name = selector.org_map[selector.value().org_id].name\n",
    "project_name = selector.project_map[selector.value().project_id].name\n",
    "ref_name = selector.ref_map[selector.value().ref_id].name\n",
    "\n",
    "indexed_commits"
   ]
  },
  {
   "cell_type": "markdown",
   "metadata": {},
   "source": [
    "### Use reproducible model analysis"
   ]
  },
  {
   "cell_type": "markdown",
   "metadata": {},
   "source": [
    "#### Find pre-registered model analysis"
   ]
  },
  {
   "cell_type": "code",
   "execution_count": null,
   "metadata": {},
   "outputs": [],
   "source": [
    "analysis_config_name = \"SAIC Validation Rules\"\n",
    "configs_with_given_name = [ config \n",
    "    for config in iqs.analysis.list_model_analysis_configurations().model_analysis_configuration_identifiers\n",
    "    if config.configuration_name == analysis_config_name\n",
    "]\n",
    "if configs_with_given_name:\n",
    "    analysis_config = configs_with_given_name[0]\n",
    "    print (\"Analysis configuration '{}' found. \\nGo on.\".format(analysis_config_name))\n",
    "else:\n",
    "    print (\"Error: analysis configuration '{}' not found, must be pre-registered for this demo\".format(analysis_config_name))"
   ]
  },
  {
   "cell_type": "markdown",
   "metadata": {},
   "source": [
    "#### Execute analysis configuration on selected model"
   ]
  },
  {
   "cell_type": "code",
   "execution_count": null,
   "metadata": {},
   "outputs": [],
   "source": [
    "from iqs_jupyter import schema\n",
    "\n",
    "analysis_results = [ { 'model': commit, 'response': iqs.analysis.run_model_analysis(analysis_execution_request = schema.AnalysisExecutionRequest(\n",
    "    configuration_id = analysis_config.configuration_id,\n",
    "    compartment = commit.to_model_compartment()\n",
    "))} for commit in indexed_commits]\n",
    "\n",
    "commit_names = [ result[\"model\"].name for result in analysis_results ]\n",
    "\n",
    "analysis_results"
   ]
  },
  {
   "cell_type": "markdown",
   "metadata": {
    "heading_collapsed": true
   },
   "source": [
    "### Visualization"
   ]
  },
  {
   "cell_type": "markdown",
   "metadata": {},
   "source": [
    "#### Issue count by severity"
   ]
  },
  {
   "cell_type": "code",
   "execution_count": null,
   "metadata": {
    "scrolled": false
   },
   "outputs": [],
   "source": [
    "import plotly.offline as pyo\n",
    "import plotly.graph_objects as go\n",
    "import numpy as np\n",
    "\n",
    "pyo.init_notebook_mode()\n",
    "\n",
    "def get_kpi(result, severity):\n",
    "  return next(kpi.value for kpi in result[\"response\"].kpi_values if kpi.name == 'Total number of '+severity)\n",
    "\n",
    "infos = [ get_kpi(result, \"info\") for result in analysis_results ]\n",
    "errors = [ get_kpi(result, \"errors\") for result in analysis_results ]\n",
    "\n",
    "fig = go.Figure()\n",
    "fig.add_trace(go.Scatter(x=commit_names, y=infos, name='Infos'))\n",
    "fig.add_trace(go.Scatter(x=commit_names, y=errors, name='Errors'))\n",
    "fig.update_layout(title='Number of SAIC rule violations in<br>'+org_name+' > '+project_name+' > '+ref_name,\n",
    "                   xaxis_title='Revision date',\n",
    "                   yaxis_title='Problem count',\n",
    "                   width = 500,\n",
    "                   height = 2000\n",
    "                 )\n",
    "fig.show()"
   ]
  },
  {
   "cell_type": "markdown",
   "metadata": {},
   "source": [
    "#### Issue count by rule"
   ]
  },
  {
   "cell_type": "code",
   "execution_count": null,
   "metadata": {},
   "outputs": [],
   "source": [
    "import plotly.graph_objects as go\n",
    "import numpy as np\n",
    "\n",
    "def rules(result):\n",
    "  return [ rule.configuration_rule.name for rule in result[\"response\"].analysis_results ]\n",
    "\n",
    "def count(result, rule_name):\n",
    "  return next(len(rule.matches) for rule in result[\"response\"].analysis_results if rule.configuration_rule.name == rule_name)\n",
    "\n",
    "all_rules = list(set([ rule\n",
    "    for result in analysis_results\n",
    "    for rule in rules(result)\n",
    "]))\n",
    "\n",
    "fig = go.Figure()\n",
    "for rule_name in all_rules:\n",
    "  fig.add_trace(go.Bar(x=commit_names, y=[ count(result, rule_name) for result in analysis_results ], name=rule_name))\n",
    "fig.update_layout(title='Number of SAIC rule violations in<br>'+org_name+' > '+project_name+' > '+ref_name,\n",
    "                  xaxis_title='Revision date',\n",
    "                  yaxis_title='Problem count',\n",
    "                  height = 2000,\n",
    "                  barmode='stack')\n",
    "fig.show()"
   ]
  },
  {
   "cell_type": "code",
   "execution_count": null,
   "metadata": {},
   "outputs": [],
   "source": []
  }
 ],
 "metadata": {
  "kernelspec": {
   "display_name": "Python 3",
   "language": "python",
   "name": "python3"
  },
  "language_info": {
   "codemirror_mode": {
    "name": "ipython",
    "version": 3
   },
   "file_extension": ".py",
   "mimetype": "text/x-python",
   "name": "python",
   "nbconvert_exporter": "python",
   "pygments_lexer": "ipython3",
   "version": "3.7.4"
  }
 },
 "nbformat": 4,
 "nbformat_minor": 2
}
