{
 "cells": [
  {
   "cell_type": "markdown",
   "metadata": {},
   "source": [
    "## Public Demo of IncQuery Server Jupyter Client Extensions"
   ]
  },
  {
   "cell_type": "markdown",
   "metadata": {},
   "source": [
    "### Setup IQS Connection"
   ]
  },
  {
   "cell_type": "markdown",
   "metadata": {},
   "source": [
    "Execute the following piece of code to connect to the public IncQuery Server demo instance.\n",
    "\n",
    "If you have non-guest privileges, uncomment the additional lines to specify your credentials."
   ]
  },
  {
   "cell_type": "code",
   "execution_count": null,
   "metadata": {
    "scrolled": true
   },
   "outputs": [],
   "source": [
    "import iqs_jupyter\n",
    "iqs = iqs_jupyter.connect(\n",
    "    #address='https://openmbee.incquery.io/api',\n",
    "    #user='guest',\n",
    "    #password='incqueryserverguest'\n",
    ")"
   ]
  },
  {
   "cell_type": "markdown",
   "metadata": {},
   "source": [
    "### Select MMS commit to consider"
   ]
  },
  {
   "cell_type": "markdown",
   "metadata": {},
   "source": [
    "Run the next code block to display the commit selector widget, and use it to browse around the MMS repository. When you've had your fun, make sure to leave it in a state where a commit is selected from the _IQS4MMS Demos_ org, as we have made sure to pre-index and load those commits in the IQS."
   ]
  },
  {
   "cell_type": "code",
   "execution_count": null,
   "metadata": {},
   "outputs": [],
   "source": [
    "commit_selector = iqs.jupyter_tools.mms_commit_selector_widget()"
   ]
  },
  {
   "cell_type": "markdown",
   "metadata": {},
   "source": [
    "The following piece of code assigns the Python name `model` to the MMS commit selected above, and checks whether the model is indeed indexed and loaded in memory, which is required for the rest of the demo "
   ]
  },
  {
   "cell_type": "code",
   "execution_count": null,
   "metadata": {},
   "outputs": [],
   "source": [
    "model = commit_selector.value().to_model_compartment()\n",
    "if model.is_loaded_in_memory(iqs):\n",
    "    print(\"We may proceed.\")\n",
    "else: \n",
    "    print(\"Model is not indexed&loaded on IQS, so the next demo steps will not work.\")\n",
    "    print(\" (Unfortunately, guest users are not allowed to control model indexing.)\")\n",
    "    print(\"Please select another model from the 'IQS4MMS Demos' org.\")"
   ]
  },
  {
   "cell_type": "markdown",
   "metadata": {},
   "source": [
    "### Perform custom validation checks (progress with indexed models only)"
   ]
  },
  {
   "cell_type": "code",
   "execution_count": null,
   "metadata": {},
   "outputs": [],
   "source": [
    "iqs.validation.validate_model_compartment(model)"
   ]
  },
  {
   "cell_type": "markdown",
   "metadata": {},
   "source": [
    "### Execute pre-registered query and process results"
   ]
  },
  {
   "cell_type": "markdown",
   "metadata": {},
   "source": [
    "See which queries are registered and ready for execution:"
   ]
  },
  {
   "cell_type": "code",
   "execution_count": null,
   "metadata": {},
   "outputs": [],
   "source": [
    "iqs.queries.list_queries()"
   ]
  },
  {
   "cell_type": "markdown",
   "metadata": {},
   "source": [
    "Execute a custom query registered on the server and see its results."
   ]
  },
  {
   "cell_type": "code",
   "execution_count": null,
   "metadata": {
    "code_folding": []
   },
   "outputs": [],
   "source": [
    "qResults = iqs.query_execution.execute_query_on_model_compartment({\n",
    "  \"modelCompartment\": model,\n",
    "  \"queryFQN\": \"iqs4mms.queries.example.dependencies\"\n",
    "})\n",
    "qResults"
   ]
  },
  {
   "cell_type": "markdown",
   "metadata": {},
   "source": [
    "The results can also be simply processed in Python:"
   ]
  },
  {
   "cell_type": "code",
   "execution_count": null,
   "metadata": {},
   "outputs": [],
   "source": [
    "qResults.to_list_of_matches()"
   ]
  },
  {
   "cell_type": "markdown",
   "metadata": {},
   "source": [
    "### Extract individual model elements, execute queries with parameter bindings"
   ]
  },
  {
   "cell_type": "markdown",
   "metadata": {},
   "source": [
    "Descriptors of individual model elements can be extracted into Python variables from query results..."
   ]
  },
  {
   "cell_type": "code",
   "execution_count": null,
   "metadata": {},
   "outputs": [],
   "source": [
    "first_result_element = qResults.to_list_of_matches()[0]['source']\n",
    "first_result_element"
   ]
  },
  {
   "cell_type": "markdown",
   "metadata": {},
   "source": [
    "...alternatively, model element descriptors can be directly constructed using element identifiers:"
   ]
  },
  {
   "cell_type": "code",
   "execution_count": null,
   "metadata": {},
   "outputs": [],
   "source": [
    "some_element = model.get_element_in_compartment_by_id(\"_19_0_1_8760276_1525256443785_858460_4599\") \n",
    "some_element"
   ]
  },
  {
   "cell_type": "markdown",
   "metadata": {},
   "source": [
    "Model elements can be used as parameter bindings to restrict the requested results:"
   ]
  },
  {
   "cell_type": "code",
   "execution_count": null,
   "metadata": {},
   "outputs": [],
   "source": [
    "from iqs_jupyter import binding\n",
    "qResults_restricted = iqs.query_execution.execute_query_on_model_compartment({\n",
    "  \"modelCompartment\": model,\n",
    "  \"queryFQN\": \"iqs4mms.queries.example.dependencies\",\n",
    "  \"parameterBinding\": binding(target=some_element)\n",
    "})\n",
    "qResults_restricted"
   ]
  },
  {
   "cell_type": "markdown",
   "metadata": {},
   "source": [
    "### Convert query results to Python/Jupyter-friendly Pandas dataframes and process them as such"
   ]
  },
  {
   "cell_type": "markdown",
   "metadata": {},
   "source": [
    "The following block query renders results in Pandas dataframe format, ready for complex client-side manipulation:"
   ]
  },
  {
   "cell_type": "code",
   "execution_count": null,
   "metadata": {},
   "outputs": [],
   "source": [
    "qResults_df = qResults.to_data_frame()\n",
    "qResults_df"
   ]
  },
  {
   "cell_type": "markdown",
   "metadata": {},
   "source": [
    "Setting up Cufflinks for Pandas/Plot.ly visualization:"
   ]
  },
  {
   "cell_type": "code",
   "execution_count": null,
   "metadata": {
    "scrolled": true
   },
   "outputs": [],
   "source": [
    "import cufflinks as cf\n",
    "cf.go_offline()"
   ]
  },
  {
   "cell_type": "markdown",
   "metadata": {},
   "source": [
    "Preprocess results using Pandas and visualize the output using Plot.ly:"
   ]
  },
  {
   "cell_type": "code",
   "execution_count": null,
   "metadata": {},
   "outputs": [],
   "source": [
    "qResults_df.applymap(lambda element: element.relative_element_id).source.value_counts().iplot(\n",
    "    kind='bar', filename='cufflinks/categorical-bar-chart/frequent_sources',\n",
    "    yTitle='Number of Dependencies', title='Dependencies from Source',\n",
    ")"
   ]
  },
  {
   "cell_type": "markdown",
   "metadata": {},
   "source": [
    "### Sandbox"
   ]
  },
  {
   "cell_type": "code",
   "execution_count": null,
   "metadata": {},
   "outputs": [],
   "source": []
  },
  {
   "cell_type": "markdown",
   "metadata": {
    "heading_collapsed": true
   },
   "source": [
    "## Extra section for privileged users\n",
    "Do not forget to specify your privileged credentials at the top of the notebook, in the first code cell"
   ]
  },
  {
   "cell_type": "markdown",
   "metadata": {
    "heading_collapsed": true,
    "hidden": true
   },
   "source": [
    "### Repository management, indexing commits"
   ]
  },
  {
   "cell_type": "markdown",
   "metadata": {
    "hidden": true
   },
   "source": [
    "Force the server to refresh its knowledge of commits in the repository:"
   ]
  },
  {
   "cell_type": "code",
   "execution_count": null,
   "metadata": {
    "code_folding": [],
    "hidden": true,
    "scrolled": true
   },
   "outputs": [],
   "source": [
    "iqs.mms_repository.update_mms_repository()"
   ]
  },
  {
   "cell_type": "markdown",
   "metadata": {
    "hidden": true
   },
   "source": [
    "Index another model from the repository, and then load the index into memory:"
   ]
  },
  {
   "cell_type": "code",
   "execution_count": null,
   "metadata": {
    "hidden": true
   },
   "outputs": [],
   "source": [
    "iqs.persistent_index.index_model_compartment(model)"
   ]
  },
  {
   "cell_type": "code",
   "execution_count": null,
   "metadata": {
    "hidden": true,
    "scrolled": true
   },
   "outputs": [],
   "source": [
    "iqs.in_memory_index.load_model_compartment(model)"
   ]
  },
  {
   "cell_type": "markdown",
   "metadata": {
    "heading_collapsed": true,
    "hidden": true
   },
   "source": [
    "### Register custom ad-hoc queries"
   ]
  },
  {
   "cell_type": "code",
   "execution_count": null,
   "metadata": {
    "code_folding": [],
    "hidden": true,
    "scrolled": false
   },
   "outputs": [],
   "source": [
    "if \"iqs4mms.queries.example.dependencies\" not in iqs.queries.list_queries().query_fq_ns:\n",
    "    # attempt to register query only if not already registered\n",
    "    iqs.queries.register_queries_plain_text('''\n",
    "pattern dependencies(source : NamedElement, target : NamedElement) {\n",
    "  Dependency.supplier(dependency, target); Dependency.client(dependency, source);\n",
    "}\n",
    "''', query_package=\"iqs4mms.queries.example\")\n",
    "else:\n",
    "    print(\"Query is already registered\")    "
   ]
  },
  {
   "cell_type": "markdown",
   "metadata": {
    "heading_collapsed": true,
    "hidden": true
   },
   "source": [
    "### Sandbox"
   ]
  },
  {
   "cell_type": "code",
   "execution_count": null,
   "metadata": {
    "hidden": true
   },
   "outputs": [],
   "source": []
  }
 ],
 "metadata": {
  "kernelspec": {
   "display_name": "Python 3",
   "language": "python",
   "name": "python3"
  },
  "language_info": {
   "codemirror_mode": {
    "name": "ipython",
    "version": 3
   },
   "file_extension": ".py",
   "mimetype": "text/x-python",
   "name": "python",
   "nbconvert_exporter": "python",
   "pygments_lexer": "ipython3",
   "version": "3.7.3"
  }
 },
 "nbformat": 4,
 "nbformat_minor": 2
}
