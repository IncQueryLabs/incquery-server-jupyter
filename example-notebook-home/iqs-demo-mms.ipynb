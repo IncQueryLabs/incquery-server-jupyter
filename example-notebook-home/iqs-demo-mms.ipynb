{
 "cells": [
  {
   "cell_type": "markdown",
   "metadata": {},
   "source": [
    "## Public Demo of IncQuery Server Jupyter Client Extensions"
   ]
  },
  {
   "cell_type": "markdown",
   "metadata": {},
   "source": [
    "### Preliminaries"
   ]
  },
  {
   "cell_type": "markdown",
   "metadata": {},
   "source": [
    "#### Setup IQS Connection"
   ]
  },
  {
   "cell_type": "markdown",
   "metadata": {},
   "source": [
    "Execute the following piece of code to connect to the public IncQuery Server demo instance.\n",
    "\n",
    "If you have non-guest privileges, uncomment the additional lines to specify your credentials."
   ]
  },
  {
   "cell_type": "code",
   "execution_count": null,
   "metadata": {
    "scrolled": true
   },
   "outputs": [],
   "source": [
    "import iqs_jupyter\n",
    "iqs = iqs_jupyter.connect(\n",
    "    #address='https://openmbee.incquery.io/api',\n",
    "    #user='guest',\n",
    "    #password='incqueryserverguest'\n",
    ")"
   ]
  },
  {
   "cell_type": "markdown",
   "metadata": {},
   "source": [
    "#### Select MMS commit to consider"
   ]
  },
  {
   "cell_type": "markdown",
   "metadata": {},
   "source": [
    "Run the next code block to display the commit selector widget, and use it to browse around the MMS repository. When you've had your fun, make sure to leave it in a state where a commit is selected from the _IQS4MMS Demos_ org, as we have made sure to pre-index and load those commits in the IQS."
   ]
  },
  {
   "cell_type": "code",
   "execution_count": null,
   "metadata": {},
   "outputs": [],
   "source": [
    "commit_selector = iqs.jupyter_tools.mms_commit_selector_widget()"
   ]
  },
  {
   "cell_type": "markdown",
   "metadata": {},
   "source": [
    "The following piece of code assigns the Python name `model` to the MMS commit selected above, and checks whether the model is indeed indexed and loaded by IQS, which is required for the rest of the demo "
   ]
  },
  {
   "cell_type": "code",
   "execution_count": null,
   "metadata": {},
   "outputs": [],
   "source": [
    "model = commit_selector.value().to_model_compartment()\n",
    "if model.is_loaded_by_server(iqs):\n",
    "    print(\"We may proceed.\")\n",
    "else: \n",
    "    print(\"Model is not indexed&loaded by IQS, so the next demo steps will not work.\")\n",
    "    print(\" (Unfortunately, guest users are not allowed to control model indexing.)\")\n",
    "    print(\"Please select another model from the 'IQS4MMS Demos' org.\")"
   ]
  },
  {
   "cell_type": "markdown",
   "metadata": {},
   "source": [
    "### Model validation"
   ]
  },
  {
   "cell_type": "markdown",
   "metadata": {},
   "source": [
    "#### Perform validation checks with custom validation rules (progress with indexed models only)"
   ]
  },
  {
   "cell_type": "markdown",
   "metadata": {},
   "source": [
    "Request and display a validation report for the selected model"
   ]
  },
  {
   "cell_type": "code",
   "execution_count": null,
   "metadata": {},
   "outputs": [],
   "source": [
    "validation_report = iqs.validation.validate_model_compartment(model)\n",
    "validation_report"
   ]
  },
  {
   "cell_type": "markdown",
   "metadata": {},
   "source": [
    "The diagnostic results can also be simply processed in Python, as a list of diagnostic items:"
   ]
  },
  {
   "cell_type": "code",
   "execution_count": null,
   "metadata": {},
   "outputs": [],
   "source": [
    "validation_report.to_list_of_diagnostic_items()"
   ]
  },
  {
   "cell_type": "markdown",
   "metadata": {},
   "source": [
    "#### Visualize custom validation reports via Pandas dataframes and Plot.ly"
   ]
  },
  {
   "cell_type": "markdown",
   "metadata": {},
   "source": [
    "The following block renders results in Pandas dataframe format, ready for complex client-side manipulation:"
   ]
  },
  {
   "cell_type": "code",
   "execution_count": null,
   "metadata": {},
   "outputs": [],
   "source": [
    "validation_report_df = validation_report.to_data_frame()\n",
    "validation_report_df"
   ]
  },
  {
   "cell_type": "markdown",
   "metadata": {},
   "source": [
    "Setting up Cufflinks for Pandas/Plot.ly visualization:"
   ]
  },
  {
   "cell_type": "code",
   "execution_count": null,
   "metadata": {
    "scrolled": true
   },
   "outputs": [],
   "source": [
    "import cufflinks as cf\n",
    "cf.go_offline()"
   ]
  },
  {
   "cell_type": "markdown",
   "metadata": {},
   "source": [
    "Preprocess results using Pandas and visualize the output using Plot.ly; this is handy for generating many kinds of custom validation reports.\n",
    "\n",
    "First, here is a diagram showing the number of violations found for each validation rule:"
   ]
  },
  {
   "cell_type": "code",
   "execution_count": null,
   "metadata": {
    "scrolled": true
   },
   "outputs": [],
   "source": [
    "validation_report_df.constraint_element_name.value_counts().iplot( \n",
    "    kind='bar', filename='cufflinks/categorical-bar-chart/frequent_diagnostic_rules',\n",
    "    yTitle='Number of Diagnostics per Diagnostic Rule', title='Rule Match Counts',\n",
    ")"
   ]
  },
  {
   "cell_type": "markdown",
   "metadata": {},
   "source": [
    "Next, we do some precomputation with Pandas and plot a chart of violating elements against their total number of violations; if there are multiple severities (e.g. warnings and errors), the bars will be subdivided (stacked bar chart)."
   ]
  },
  {
   "cell_type": "code",
   "execution_count": null,
   "metadata": {},
   "outputs": [],
   "source": [
    "validation_report_grouped = validation_report_df.groupby(by=['matching_element_relative_id','severity'])\n",
    "validation_report_unstacked = validation_report_grouped.size().unstack(level=-1, fill_value=0)\n",
    "validation_report_unstacked['total'] = validation_report_unstacked.apply(sum, axis=1)\n",
    "validation_report_unstacked = validation_report_unstacked.sort_values(by=['total'], ascending=False).drop('total', axis=1)"
   ]
  },
  {
   "cell_type": "code",
   "execution_count": null,
   "metadata": {
    "scrolled": true
   },
   "outputs": [],
   "source": [
    "validation_report_unstacked.iplot( \n",
    "    kind='bar', barmode='stack', filename='cufflinks/stacked-bar-chart/diagnostics_per_element',\n",
    "    yTitle='Number of Diagnostics per Violating Element', title='Violations Per Element',\n",
    ")"
   ]
  },
  {
   "cell_type": "markdown",
   "metadata": {},
   "source": [
    "### Custom model queries"
   ]
  },
  {
   "cell_type": "markdown",
   "metadata": {},
   "source": [
    "#### Execute pre-registered query and process results"
   ]
  },
  {
   "cell_type": "markdown",
   "metadata": {},
   "source": [
    "See which queries are registered and ready for execution:"
   ]
  },
  {
   "cell_type": "code",
   "execution_count": null,
   "metadata": {},
   "outputs": [],
   "source": [
    "iqs.queries.list_queries()"
   ]
  },
  {
   "cell_type": "markdown",
   "metadata": {},
   "source": [
    "Execute a custom query registered on the server and display its results. \n",
    "\n",
    "Below we demonstrate a query that assigns a pair of in-house custom requirements coverage metrics to packages in the model. \n",
    "\n",
    "(Towards the end of the notebook we will see how such custom queries can be defined and registered on the server.)"
   ]
  },
  {
   "cell_type": "code",
   "execution_count": null,
   "metadata": {
    "code_folding": []
   },
   "outputs": [],
   "source": [
    "from iqs_jupyter import schema\n",
    "qResults = iqs.query_execution.execute_query_on_model_compartment(\n",
    "    schema.ExecuteQueryOnCompartmentRequest(\n",
    "      model_compartment = model,\n",
    "      query_fqn = \"iqs4mms.demo.coverage.packageCoverage\"\n",
    "    ))\n",
    "qResults"
   ]
  },
  {
   "cell_type": "markdown",
   "metadata": {},
   "source": [
    "The results can also be simply processed in Python:"
   ]
  },
  {
   "cell_type": "code",
   "execution_count": null,
   "metadata": {},
   "outputs": [],
   "source": [
    "qResults.to_list_of_matches()"
   ]
  },
  {
   "cell_type": "markdown",
   "metadata": {},
   "source": [
    "#### Extract individual model elements, execute queries with parameter bindings"
   ]
  },
  {
   "cell_type": "markdown",
   "metadata": {},
   "source": [
    "Descriptors of individual model elements can be extracted into Python variables from query results..."
   ]
  },
  {
   "cell_type": "code",
   "execution_count": null,
   "metadata": {},
   "outputs": [],
   "source": [
    "first_result_element = qResults.to_list_of_matches()[0]['pack']\n",
    "first_result_element"
   ]
  },
  {
   "cell_type": "markdown",
   "metadata": {},
   "source": [
    "...alternatively, model element descriptors can be directly constructed using element identifiers:"
   ]
  },
  {
   "cell_type": "code",
   "execution_count": null,
   "metadata": {},
   "outputs": [],
   "source": [
    "some_element = model.get_element_in_compartment_by_id(\"_18_0_5_baa02e2_1454283816868_357127_158658\") \n",
    "some_element"
   ]
  },
  {
   "cell_type": "markdown",
   "metadata": {},
   "source": [
    "Model elements or simple values can be used as parameter bindings to restrict the requested results:"
   ]
  },
  {
   "cell_type": "code",
   "execution_count": null,
   "metadata": {},
   "outputs": [],
   "source": [
    "from iqs_jupyter import binding\n",
    "qResults_restricted = iqs.query_execution.execute_query_on_model_compartment(\n",
    "    schema.ExecuteQueryOnCompartmentRequest(\n",
    "        model_compartment = model,\n",
    "        query_fqn = \"iqs4mms.demo.coverage.packageCoverage\",\n",
    "        parameter_binding = binding(pack=some_element)\n",
    "    ))\n",
    "qResults_restricted"
   ]
  },
  {
   "cell_type": "markdown",
   "metadata": {},
   "source": [
    "#### Visualize query results using Pandas dataframes and Plot.ly"
   ]
  },
  {
   "cell_type": "markdown",
   "metadata": {},
   "source": [
    "The following block query renders results in Pandas dataframe format, ready for complex client-side manipulation:"
   ]
  },
  {
   "cell_type": "code",
   "execution_count": null,
   "metadata": {},
   "outputs": [],
   "source": [
    "qResults_df = qResults.to_data_frame()\n",
    "qResults_df"
   ]
  },
  {
   "cell_type": "markdown",
   "metadata": {},
   "source": [
    "Setting up Cufflinks for Pandas/Plot.ly visualization:"
   ]
  },
  {
   "cell_type": "code",
   "execution_count": null,
   "metadata": {
    "scrolled": true
   },
   "outputs": [],
   "source": [
    "import cufflinks as cf\n",
    "cf.go_offline()"
   ]
  },
  {
   "cell_type": "markdown",
   "metadata": {},
   "source": [
    "Preprocess results using Pandas and visualize the output using Plot.ly:"
   ]
  },
  {
   "cell_type": "code",
   "execution_count": null,
   "metadata": {},
   "outputs": [],
   "source": [
    "qResults_df['pack'] = qResults_df['pack'].apply(lambda element: element.relative_element_id)\n",
    "qResults_df.set_index('pack', inplace=True)\n",
    "qResults_df"
   ]
  },
  {
   "cell_type": "code",
   "execution_count": null,
   "metadata": {},
   "outputs": [],
   "source": [
    "qResults_df.iplot(\n",
    "    kind='bar', filename='cufflinks/categorical-bar-chart/coverage',\n",
    "    yTitle='Block in Package Traced to Requirements', title='Requirements Coverage by Package',\n",
    ")"
   ]
  },
  {
   "cell_type": "markdown",
   "metadata": {},
   "source": [
    "### Sandbox"
   ]
  },
  {
   "cell_type": "code",
   "execution_count": null,
   "metadata": {},
   "outputs": [],
   "source": [
    "from iqs_jupyter import schema\n",
    "iqs.query_execution.execute_query_on_model_compartment(\n",
    "    schema.ExecuteQueryOnCompartmentRequest(\n",
    "        model_compartment = model,\n",
    "        query_fqn = \"iqs4mms.demo.benchmark.requirements\"\n",
    "    ))"
   ]
  },
  {
   "cell_type": "markdown",
   "metadata": {
    "heading_collapsed": true
   },
   "source": [
    "## Extra section for privileged users\n",
    "Do not forget to specify your privileged credentials at the top of the notebook, in the first code cell"
   ]
  },
  {
   "cell_type": "markdown",
   "metadata": {
    "hidden": true
   },
   "source": [
    "### Repository management, indexing commits"
   ]
  },
  {
   "cell_type": "markdown",
   "metadata": {
    "hidden": true
   },
   "source": [
    "Force the server to refresh its knowledge of commits in the repository:"
   ]
  },
  {
   "cell_type": "code",
   "execution_count": null,
   "metadata": {
    "code_folding": [],
    "hidden": true,
    "scrolled": true
   },
   "outputs": [],
   "source": [
    "iqs.mms_repository.update_mms_repository()"
   ]
  },
  {
   "cell_type": "markdown",
   "metadata": {
    "hidden": true
   },
   "source": [
    "Index another model from the repository, and then load the index into server memory:"
   ]
  },
  {
   "cell_type": "code",
   "execution_count": null,
   "metadata": {
    "hidden": true
   },
   "outputs": [],
   "source": [
    "iqs.persistent_index.index_model_compartment(model)"
   ]
  },
  {
   "cell_type": "code",
   "execution_count": null,
   "metadata": {
    "hidden": true,
    "scrolled": true
   },
   "outputs": [],
   "source": [
    "iqs.in_memory_index.load_model_compartment(model)"
   ]
  },
  {
   "cell_type": "markdown",
   "metadata": {
    "hidden": true
   },
   "source": [
    "### Define and register custom ad-hoc queries"
   ]
  },
  {
   "cell_type": "markdown",
   "metadata": {
    "hidden": true
   },
   "source": [
    "The custom model queries defined below will discover multiple forms of traceability to _Requirement_ elements, determine the coverage of _SysML_ _Blocks_, and aggregate coverage metrics for _Package_s containing these _Blocks_."
   ]
  },
  {
   "cell_type": "code",
   "execution_count": null,
   "metadata": {
    "hidden": true
   },
   "outputs": [],
   "source": [
    "coverage_query_package = \"iqs4mms.demo.coverage\"\n",
    "coverage_query_main = \"iqs4mms.demo.coverage.packageCoverage\"\n",
    "coverage_query_code = '''\n",
    "\n",
    "// custom in-house definitions for strong and weak coverage\n",
    "\n",
    "pattern stronglyCovered(element: NamedElement) {\n",
    "    find sysml.businessRequirement_SatisfiedBy(_, element);\n",
    "} or {\n",
    "    find sysml.businessRequirement_TracedTo(_, element);\n",
    "}\n",
    "pattern weaklyCovered(element: NamedElement) {\n",
    "    find stronglyCovered(otherElement);\n",
    "    find coveragePropagates+(otherElement, element);\n",
    "    neg find stronglyCovered(element);\n",
    "}\n",
    "pattern coveragePropagates(from: NamedElement, to: NamedElement) {\n",
    "    // from container to part\n",
    "    Class.ownedAttribute(from, part);\n",
    "    Property.aggregation(part, ::composite);\n",
    "    TypedElement.type(part, to);\n",
    "} or { \n",
    "    // from general superclassifier / block to specific block\n",
    "    Generalization.general(gen, from);\n",
    "    Generalization.specific(gen, to);\n",
    "}\n",
    "\n",
    "// queries to assemble a report on (transitive) package contents\n",
    "\n",
    "pattern blockInPackage(block: Class, pack: Package) {\n",
    "    find sysml.Block(block, _);    \n",
    "    Package.packagedElement+(pack, block);\n",
    "}\n",
    "pattern stronglyCoveredBlockInPackage(block: Class, pack: Package) {\n",
    "    find stronglyCovered(block);    \n",
    "    find blockInPackage(block, pack);\n",
    "}\n",
    "pattern weaklyCoveredBlockInPackage(block: Class, pack: Package) {\n",
    "    find weaklyCovered(block);    \n",
    "    find blockInPackage(block, pack);\n",
    "}\n",
    "\n",
    "pattern packageCoverage(\n",
    "    pack: Package, \n",
    "    totalBlocks: java Integer, \n",
    "    stronglyCovered: java Integer, \n",
    "    weaklyCovered: java Integer\n",
    ") {\n",
    "    totalBlocks     == count find blockInPackage(_, pack);\n",
    "    stronglyCovered == count find stronglyCoveredBlockInPackage(_, pack);\n",
    "    weaklyCovered   == count find weaklyCoveredBlockInPackage(_, pack);\n",
    "}\n",
    "\n",
    "'''"
   ]
  },
  {
   "cell_type": "markdown",
   "metadata": {
    "hidden": true
   },
   "source": [
    "Queries need to be registered on the server before they can be evaluated."
   ]
  },
  {
   "cell_type": "code",
   "execution_count": null,
   "metadata": {
    "code_folding": [],
    "hidden": true,
    "scrolled": false
   },
   "outputs": [],
   "source": [
    "if coverage_query_main not in iqs.queries.list_queries().query_fq_ns:\n",
    "    # attempt to register query only if not already registered\n",
    "    iqs.queries.register_queries_plain_text(coverage_query_code, query_package=coverage_query_package)\n",
    "else:\n",
    "    print(\"Query is already registered\")    "
   ]
  },
  {
   "cell_type": "markdown",
   "metadata": {
    "hidden": true
   },
   "source": [
    "### Sandbox"
   ]
  },
  {
   "cell_type": "code",
   "execution_count": null,
   "metadata": {
    "hidden": true
   },
   "outputs": [],
   "source": []
  }
 ],
 "metadata": {
  "kernelspec": {
   "display_name": "Python 3",
   "language": "python",
   "name": "python3"
  },
  "language_info": {
   "codemirror_mode": {
    "name": "ipython",
    "version": 3
   },
   "file_extension": ".py",
   "mimetype": "text/x-python",
   "name": "python",
   "nbconvert_exporter": "python",
   "pygments_lexer": "ipython3",
   "version": "3.7.3"
  }
 },
 "nbformat": 4,
 "nbformat_minor": 2
}
