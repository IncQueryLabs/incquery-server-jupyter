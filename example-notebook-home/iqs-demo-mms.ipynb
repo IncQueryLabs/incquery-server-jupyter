{
 "cells": [
  {
   "cell_type": "markdown",
   "metadata": {},
   "source": [
    "## Public Demo of IncQuery Server Jupyter Client Extensions"
   ]
  },
  {
   "cell_type": "markdown",
   "metadata": {},
   "source": [
    "### Setup IQS Connection"
   ]
  },
  {
   "cell_type": "code",
   "execution_count": null,
   "metadata": {
    "scrolled": true
   },
   "outputs": [],
   "source": [
    "import iqs_jupyter\n",
    "iqs = iqs_jupyter.connect(\n",
    "    # if you have non-guest privileges, uncomment these lines to specify your credentials \n",
    "    #address='https://openmbee.incquery.io/api',\n",
    "    #user='guest',\n",
    "    #password='incqueryserverguest'\n",
    ")"
   ]
  },
  {
   "cell_type": "markdown",
   "metadata": {},
   "source": [
    "### Select MMS commit to consider"
   ]
  },
  {
   "cell_type": "code",
   "execution_count": null,
   "metadata": {},
   "outputs": [],
   "source": [
    "commit_selector = iqs.jupyter_tools.mms_commit_selector_widget()"
   ]
  },
  {
   "cell_type": "code",
   "execution_count": null,
   "metadata": {},
   "outputs": [],
   "source": [
    "model = commit_selector.value().to_model_compartment()\n",
    "# check if the model is indexed and loaded in memory, in which case we may proceed \n",
    "# (otherwise has to be loaded first, which is restricted to privileged users, see below)\n",
    "model.is_loaded_in_memory(iqs)"
   ]
  },
  {
   "cell_type": "markdown",
   "metadata": {},
   "source": [
    "### Perform custom validation checks (progress with indexed models only)"
   ]
  },
  {
   "cell_type": "code",
   "execution_count": null,
   "metadata": {},
   "outputs": [],
   "source": [
    "iqs.validation.validate_model_compartment(model)"
   ]
  },
  {
   "cell_type": "markdown",
   "metadata": {},
   "source": [
    "### Execute pre-registered query and process results"
   ]
  },
  {
   "cell_type": "code",
   "execution_count": null,
   "metadata": {},
   "outputs": [],
   "source": [
    "iqs.queries.list_queries()"
   ]
  },
  {
   "cell_type": "code",
   "execution_count": null,
   "metadata": {
    "code_folding": []
   },
   "outputs": [],
   "source": [
    "qResults = iqs.query_execution.execute_query_on_model_compartment({\n",
    "  \"modelCompartment\": model,\n",
    "  \"queryFQN\": \"iqs4mms.queries.example.dependencies\"\n",
    "})"
   ]
  },
  {
   "cell_type": "code",
   "execution_count": null,
   "metadata": {},
   "outputs": [],
   "source": [
    "qResults"
   ]
  },
  {
   "cell_type": "code",
   "execution_count": null,
   "metadata": {},
   "outputs": [],
   "source": [
    "# this is how to process the results in Python:\n",
    "qResults.to_list_of_matches()"
   ]
  },
  {
   "cell_type": "markdown",
   "metadata": {},
   "source": [
    "### Extract individual model elements, execute queries with parameter bindings"
   ]
  },
  {
   "cell_type": "code",
   "execution_count": null,
   "metadata": {},
   "outputs": [],
   "source": [
    "# Descriptors of individual model elements can be extracted from query results...\n",
    "first_result_element = qResults.to_list_of_matches()[0]['source']\n",
    "first_result_element # check element hover for element descriptor details"
   ]
  },
  {
   "cell_type": "code",
   "execution_count": null,
   "metadata": {},
   "outputs": [],
   "source": [
    "# ...alternatively, model element descriptors can be directly constructed using element identifiers:\n",
    "some_element = model.get_element_in_compartment_by_id(\"_19_0_1_8760276_1525256443785_858460_4599\") \n",
    "some_element"
   ]
  },
  {
   "cell_type": "code",
   "execution_count": null,
   "metadata": {},
   "outputs": [],
   "source": [
    "# Model elements can be used to restrict the requested results\n",
    "from iqs_jupyter import binding\n",
    "qResults_restricted = iqs.query_execution.execute_query_on_model_compartment({\n",
    "  \"modelCompartment\": model,\n",
    "  \"queryFQN\": \"iqs4mms.queries.example.dependencies\",\n",
    "  \"parameterBinding\": binding(target=some_element)\n",
    "})\n",
    "qResults_restricted"
   ]
  },
  {
   "cell_type": "markdown",
   "metadata": {},
   "source": [
    "### Convert query results to Python/Jupyter-friendly Pandas dataframes and process them as such"
   ]
  },
  {
   "cell_type": "code",
   "execution_count": null,
   "metadata": {},
   "outputs": [],
   "source": [
    "# results are now in Pandas dataframe format, ready for complex client-side manipulation\n",
    "qResults_df = qResults.to_data_frame()\n",
    "qResults_df"
   ]
  },
  {
   "cell_type": "code",
   "execution_count": null,
   "metadata": {
    "scrolled": true
   },
   "outputs": [],
   "source": [
    "# setting up Cufflinks for Pandas/Plot.ly visualization\n",
    "import cufflinks as cf\n",
    "cf.go_offline()"
   ]
  },
  {
   "cell_type": "code",
   "execution_count": null,
   "metadata": {},
   "outputs": [],
   "source": [
    "# Preprocess results using Pandas and visualize the output using Plot.ly\n",
    "qResults_df.applymap(lambda element: element.relative_element_id).source.value_counts().iplot(\n",
    "    kind='bar', filename='cufflinks/categorical-bar-chart/frequent_sources',\n",
    "    yTitle='Number of Dependencies', title='Dependencies from Source',\n",
    ")"
   ]
  },
  {
   "cell_type": "markdown",
   "metadata": {},
   "source": [
    "### Sandbox"
   ]
  },
  {
   "cell_type": "code",
   "execution_count": null,
   "metadata": {},
   "outputs": [],
   "source": []
  },
  {
   "cell_type": "markdown",
   "metadata": {
    "heading_collapsed": true
   },
   "source": [
    "## Extra section for privileged users\n",
    "Do not forget to specify your privileged credentials at the top of the notebook, in the first code cell"
   ]
  },
  {
   "cell_type": "markdown",
   "metadata": {
    "heading_collapsed": true,
    "hidden": true
   },
   "source": [
    "### Repository management, indexing commits"
   ]
  },
  {
   "cell_type": "code",
   "execution_count": null,
   "metadata": {
    "code_folding": [],
    "hidden": true,
    "scrolled": true
   },
   "outputs": [],
   "source": [
    "# force the server to refresh its knowledge of commits in the repository\n",
    "iqs.mms_repository.update_mms_repository()"
   ]
  },
  {
   "cell_type": "code",
   "execution_count": null,
   "metadata": {
    "hidden": true
   },
   "outputs": [],
   "source": [
    "iqs.persistent_index.index_model_compartment(model)"
   ]
  },
  {
   "cell_type": "code",
   "execution_count": null,
   "metadata": {
    "hidden": true,
    "scrolled": true
   },
   "outputs": [],
   "source": [
    "iqs.in_memory_index.load_model_compartment(model)"
   ]
  },
  {
   "cell_type": "markdown",
   "metadata": {
    "heading_collapsed": true,
    "hidden": true
   },
   "source": [
    "### Register custom ad-hoc queries"
   ]
  },
  {
   "cell_type": "code",
   "execution_count": null,
   "metadata": {
    "code_folding": [],
    "hidden": true,
    "scrolled": false
   },
   "outputs": [],
   "source": [
    "if \"iqs4mms.queries.example.dependencies\" not in iqs.queries.list_queries().query_fq_ns:\n",
    "    # attempt to register query only if not already registered\n",
    "    iqs.queries.register_queries_plain_text('''\n",
    "pattern dependencies(source : NamedElement, target : NamedElement) {\n",
    "  Dependency.supplier(dependency, target); Dependency.client(dependency, source);\n",
    "}\n",
    "''', query_package=\"iqs4mms.queries.example\")"
   ]
  },
  {
   "cell_type": "markdown",
   "metadata": {
    "heading_collapsed": true,
    "hidden": true
   },
   "source": [
    "### Sandbox"
   ]
  },
  {
   "cell_type": "code",
   "execution_count": null,
   "metadata": {
    "hidden": true
   },
   "outputs": [],
   "source": []
  }
 ],
 "metadata": {
  "kernelspec": {
   "display_name": "Python 3",
   "language": "python",
   "name": "python3"
  },
  "language_info": {
   "codemirror_mode": {
    "name": "ipython",
    "version": 3
   },
   "file_extension": ".py",
   "mimetype": "text/x-python",
   "name": "python",
   "nbconvert_exporter": "python",
   "pygments_lexer": "ipython3",
   "version": "3.7.3"
  }
 },
 "nbformat": 4,
 "nbformat_minor": 2
}
