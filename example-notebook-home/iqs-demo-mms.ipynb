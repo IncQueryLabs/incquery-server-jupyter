{
 "cells": [
  {
   "cell_type": "markdown",
   "metadata": {},
   "source": [
    "__Setup IQS Connection__"
   ]
  },
  {
   "cell_type": "code",
   "execution_count": null,
   "metadata": {
    "scrolled": true
   },
   "outputs": [],
   "source": [
    "import iqs_jupyter\n",
    "iqs = iqs_jupyter.IQSConnectorWidget(defaultValue='127.0.0.1:47700/api', auto_display=False).connect()"
   ]
  },
  {
   "cell_type": "code",
   "execution_count": null,
   "metadata": {},
   "outputs": [],
   "source": [
    "# one can already invoke operations on the server, e.g.\n",
    "iqs.mms_repository.update_mms_repository()"
   ]
  },
  {
   "cell_type": "markdown",
   "metadata": {},
   "source": [
    "__Select and load MMS Commit__"
   ]
  },
  {
   "cell_type": "code",
   "execution_count": null,
   "metadata": {},
   "outputs": [],
   "source": [
    "commit_selector = iqs.jupyter_tools.mms_commit_selector_widget(\n",
    " initial_org     = '6384a103-766c-46e0-830d-8a3b1f479479',\n",
    " initial_project = 'PROJECT-bef4f459-5d90-41fb-bc86-4f6d4ebd2dfd',\n",
    " initial_ref     = 'master',\n",
    " initial_commit  = '560d3959-3912-434a-a914-8d039d3c9a06'\n",
    ")"
   ]
  },
  {
   "cell_type": "code",
   "execution_count": null,
   "metadata": {},
   "outputs": [],
   "source": [
    "model = commit_selector.value().to_model_compartment()\n",
    "model"
   ]
  },
  {
   "cell_type": "code",
   "execution_count": null,
   "metadata": {},
   "outputs": [],
   "source": [
    "iqs.persistent_index.index_model_compartment(model)"
   ]
  },
  {
   "cell_type": "code",
   "execution_count": null,
   "metadata": {},
   "outputs": [],
   "source": [
    "iqs.in_memory_index.load_model_compartment(model)"
   ]
  },
  {
   "cell_type": "markdown",
   "metadata": {},
   "source": [
    "__Register and Execute Query__"
   ]
  },
  {
   "cell_type": "code",
   "execution_count": null,
   "metadata": {},
   "outputs": [],
   "source": [
    "iqs.queries.unregister_all_queries()"
   ]
  },
  {
   "cell_type": "code",
   "execution_count": null,
   "metadata": {},
   "outputs": [],
   "source": [
    "iqs.queries.register_queries_plain_text('''\n",
    "pattern dependencies(source : NamedElement, target : NamedElement) {\n",
    "  Dependency.supplier(dependency, target); Dependency.client(dependency, source);\n",
    "}\n",
    "''', query_package=\"iqs4twc.queries.example\")"
   ]
  },
  {
   "cell_type": "code",
   "execution_count": null,
   "metadata": {},
   "outputs": [],
   "source": [
    "qResults = iqs.query_execution.execute_query_on_model_compartment({\n",
    "  \"modelCompartment\": model,\n",
    "  \"queryFQN\": \"iqs4twc.queries.example.dependencies\"\n",
    "})"
   ]
  },
  {
   "cell_type": "markdown",
   "metadata": {},
   "source": [
    "__Process query results__"
   ]
  },
  {
   "cell_type": "code",
   "execution_count": null,
   "metadata": {},
   "outputs": [],
   "source": [
    "qResults"
   ]
  },
  {
   "cell_type": "code",
   "execution_count": null,
   "metadata": {},
   "outputs": [],
   "source": [
    "qResults.to_list_of_matches()"
   ]
  },
  {
   "cell_type": "code",
   "execution_count": null,
   "metadata": {},
   "outputs": [],
   "source": [
    "first_result_element = qResults.to_list_of_matches()[0]['source']\n",
    "first_result_element # check element hover for element descriptor details"
   ]
  },
  {
   "cell_type": "code",
   "execution_count": null,
   "metadata": {},
   "outputs": [],
   "source": [
    "some_element = model.get_element_in_compartment_by_id(\"_10_0_8740266_1128086453859_950603_236\") # can also look up directly\n",
    "some_element"
   ]
  },
  {
   "cell_type": "code",
   "execution_count": null,
   "metadata": {},
   "outputs": [],
   "source": [
    "from iqs_jupyter import binding\n",
    "qResults_restricted = iqs.query_execution.execute_query_on_model_compartment({\n",
    "  \"modelCompartment\": model,\n",
    "  \"queryFQN\": \"iqs4twc.queries.example.dependencies\",\n",
    "  \"parameterBinding\": binding(target=some_element)\n",
    "})\n",
    "qResults_restricted"
   ]
  },
  {
   "cell_type": "markdown",
   "metadata": {},
   "source": [
    "__Convert query results to Python/Jupyter-friendly Pandas dataframes and process them as such__"
   ]
  },
  {
   "cell_type": "code",
   "execution_count": null,
   "metadata": {},
   "outputs": [],
   "source": [
    "qResults_df = qResults.to_data_frame()\n",
    "qResults_df"
   ]
  },
  {
   "cell_type": "code",
   "execution_count": null,
   "metadata": {},
   "outputs": [],
   "source": [
    "import cufflinks as cf\n",
    "cf.go_offline()"
   ]
  },
  {
   "cell_type": "code",
   "execution_count": null,
   "metadata": {},
   "outputs": [],
   "source": [
    "qResults_df.applymap(lambda element: element.relative_element_id).source.value_counts().iplot(\n",
    "    kind='bar', filename='cufflinks/categorical-bar-chart/frequent_sources',\n",
    "    yTitle='Number of Dependencies', title='Dependencies from Source',\n",
    ")"
   ]
  },
  {
   "cell_type": "markdown",
   "metadata": {},
   "source": [
    "__Sandbox__"
   ]
  },
  {
   "cell_type": "code",
   "execution_count": null,
   "metadata": {},
   "outputs": [],
   "source": [
    "commit_selector.value()"
   ]
  },
  {
   "cell_type": "code",
   "execution_count": null,
   "metadata": {},
   "outputs": [],
   "source": []
  }
 ],
 "metadata": {
  "kernelspec": {
   "display_name": "Python 3",
   "language": "python",
   "name": "python3"
  },
  "language_info": {
   "codemirror_mode": {
    "name": "ipython",
    "version": 3
   },
   "file_extension": ".py",
   "mimetype": "text/x-python",
   "name": "python",
   "nbconvert_exporter": "python",
   "pygments_lexer": "ipython3",
   "version": "3.7.3"
  }
 },
 "nbformat": 4,
 "nbformat_minor": 2
}
