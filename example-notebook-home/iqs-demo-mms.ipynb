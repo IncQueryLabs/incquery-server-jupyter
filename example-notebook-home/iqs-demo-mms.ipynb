{
 "cells": [
  {
   "cell_type": "markdown",
   "metadata": {},
   "source": [
    "## Public Demo of IncQuery Server Jupyter Client Extensions"
   ]
  },
  {
   "cell_type": "markdown",
   "metadata": {},
   "source": [
    "### Preliminaries"
   ]
  },
  {
   "cell_type": "markdown",
   "metadata": {},
   "source": [
    "#### Setup IQS Connection"
   ]
  },
  {
   "cell_type": "markdown",
   "metadata": {},
   "source": [
    "Execute the following piece of code to connect to the public IncQuery Server demo instance.\n",
    "\n",
    "If you have non-guest privileges, you may specify your credentials here."
   ]
  },
  {
   "cell_type": "code",
   "execution_count": null,
   "metadata": {
    "scrolled": true
   },
   "outputs": [],
   "source": [
    "import iqs_jupyter\n",
    "iqs = iqs_jupyter.connect(\n",
    "    address='https://openmbee.incquery.io/api',\n",
    "    user='openmbeeguest',\n",
    "    password='guest'\n",
    ")"
   ]
  },
  {
   "cell_type": "markdown",
   "metadata": {},
   "source": [
    "#### Select MMS commit to consider"
   ]
  },
  {
   "cell_type": "markdown",
   "metadata": {},
   "source": [
    "Run the next code block to display the commit selector widget, and use it to browse around the MMS repository. When you've had your fun, make sure to leave it in a state where a commit is selected from the _IQS4MMS Demos_ org, as we have made sure to pre-index and load those commits in the IQS."
   ]
  },
  {
   "cell_type": "code",
   "execution_count": null,
   "metadata": {},
   "outputs": [],
   "source": [
    "commit_selector = iqs.jupyter_tools.mms_commit_selector_widget()"
   ]
  },
  {
   "cell_type": "markdown",
   "metadata": {},
   "source": [
    "The following piece of code assigns the Python name `model` to the MMS commit selected above, and checks whether the model is indeed indexed and loaded by IQS, which is required for the rest of the demo "
   ]
  },
  {
   "cell_type": "code",
   "execution_count": null,
   "metadata": {},
   "outputs": [],
   "source": [
    "model = commit_selector.value().to_model_compartment()\n",
    "if model.is_loaded_by_server(iqs):\n",
    "    print(\"We may proceed.\")\n",
    "else: \n",
    "    print(\"Model is not indexed&loaded by IQS, so the next demo steps will not work.\")\n",
    "    print(\" (Unfortunately, guest users are not allowed to control model indexing.)\")\n",
    "    print(\"Please select another model from the 'IQS4MMS Demos' org.\")"
   ]
  },
  {
   "cell_type": "markdown",
   "metadata": {},
   "source": [
    "### Model validation"
   ]
  },
  {
   "cell_type": "markdown",
   "metadata": {},
   "source": [
    "#### Perform validation checks with custom validation rules (progress with indexed models only)"
   ]
  },
  {
   "cell_type": "markdown",
   "metadata": {},
   "source": [
    "Request and display a validation report for the selected model"
   ]
  },
  {
   "cell_type": "code",
   "execution_count": null,
   "metadata": {},
   "outputs": [],
   "source": [
    "validation_report = iqs.validation.validate_model_compartment(model)\n",
    "validation_report"
   ]
  },
  {
   "cell_type": "markdown",
   "metadata": {},
   "source": [
    "#### Visualize custom validation reports via Pandas dataframes and Plot.ly"
   ]
  },
  {
   "cell_type": "markdown",
   "metadata": {},
   "source": [
    "The following block renders results in Pandas dataframe format, ready for complex client-side manipulation:"
   ]
  },
  {
   "cell_type": "code",
   "execution_count": null,
   "metadata": {},
   "outputs": [],
   "source": [
    "validation_report_df = validation_report.to_data_frame()"
   ]
  },
  {
   "cell_type": "markdown",
   "metadata": {},
   "source": [
    "Setting up Cufflinks for Pandas/Plot.ly visualization:"
   ]
  },
  {
   "cell_type": "code",
   "execution_count": null,
   "metadata": {
    "scrolled": true
   },
   "outputs": [],
   "source": [
    "import cufflinks as cf\n",
    "cf.go_offline()"
   ]
  },
  {
   "cell_type": "markdown",
   "metadata": {},
   "source": [
    "Preprocess results using Pandas and visualize the output using Plot.ly; this is handy for generating many kinds of custom validation reports.\n",
    "\n",
    "First, here is a diagram showing the number of violations found for each validation rule:"
   ]
  },
  {
   "cell_type": "code",
   "execution_count": null,
   "metadata": {},
   "outputs": [],
   "source": [
    "validation_report_df.groupby(by=['constraint_element_name','severity']).size().unstack(level=-1).iplot( \n",
    "    kind='bar', barmode='stack', colors = iqs_jupyter.validation_color_scale,\n",
    "    filename='cufflinks/categorical-bar-chart/frequent_diagnostic_rules',\n",
    "    yTitle='Number of Diagnostics per Diagnostic Rule', title='Diagnostic Report',\n",
    ")"
   ]
  },
  {
   "cell_type": "markdown",
   "metadata": {},
   "source": [
    "Next, we do some precomputation with Pandas and plot a chart of violating elements against their total number of violations; if there are multiple severities (e.g. warnings and errors), the bars will be subdivided (stacked bar chart)."
   ]
  },
  {
   "cell_type": "code",
   "execution_count": null,
   "metadata": {},
   "outputs": [],
   "source": [
    "validation_report_elementwise = validation_report_df.groupby(by=['matching_element_relative_id','severity']).size().unstack(level=-1, fill_value=0)\n",
    "validation_report_elementwise['total'] = validation_report_elementwise.apply(sum, axis=1)\n",
    "cols_sorted = ['total'] + [severity for severity in iqs_jupyter.validation_diagnostics_ranking if severity in validation_report_elementwise.columns.to_list()]\n",
    "validation_report_elementwise = validation_report_elementwise.sort_values(by=cols_sorted, ascending=False).drop('total', axis=1)"
   ]
  },
  {
   "cell_type": "code",
   "execution_count": null,
   "metadata": {
    "scrolled": false
   },
   "outputs": [],
   "source": [
    "validation_report_elementwise.iplot( \n",
    "    kind='bar', barmode='stack', colors = iqs_jupyter.validation_color_scale,\n",
    "    filename='cufflinks/stacked-bar-chart/diagnostics_per_element',\n",
    "    yTitle='Number of Diagnostics per Violating Element', title='Detailed Diagnostic Report',\n",
    ")"
   ]
  },
  {
   "cell_type": "markdown",
   "metadata": {},
   "source": [
    "### Coverage report using custom model queries"
   ]
  },
  {
   "cell_type": "markdown",
   "metadata": {},
   "source": [
    "#### Define and register custom ad-hoc queries"
   ]
  },
  {
   "cell_type": "markdown",
   "metadata": {},
   "source": [
    "The custom model queries defined below will discover multiple forms of traceability to _Requirement_ elements, determine the coverage of _Block_ elements by such traceability links, and aggregate coverage metrics for _Package_s containing these _Block_s."
   ]
  },
  {
   "cell_type": "code",
   "execution_count": null,
   "metadata": {},
   "outputs": [],
   "source": [
    "coverage_query_package = \"iqs4mms.demo.coverage\"\n",
    "coverage_query_main = \"iqs4mms.demo.coverage.packageCoverage\"\n",
    "coverage_query_code = '''\n",
    "\n",
    "// SECTION 1: main query\n",
    "\n",
    "/* \n",
    " * Associates a UML package with \n",
    " *  - the total number of transitively contained SysML Blocks, and \n",
    " *  - the number of strongly and weakly covered blocks among them\n",
    " */\n",
    "pattern packageCoverage(\n",
    "    pack: Package, \n",
    "    totalBlocks: java Integer, \n",
    "    stronglyCovered: java Integer, \n",
    "    weaklyCovered: java Integer\n",
    ") {\n",
    "    totalBlocks     == count find blockInPackage(_, pack);\n",
    "    stronglyCovered == count find stronglyCoveredBlockInPackage(_, pack);\n",
    "    weaklyCovered   == count find weaklyCoveredBlockInPackage(_, pack);\n",
    "}\n",
    "\n",
    "\n",
    "// SECTION 2: custom in-house definitions for strong and weak coverage\n",
    "\n",
    "/* \n",
    " * Identifies elements that are strongly covered by a requirement.\n",
    " * This definition may be customized according to in-house concept of strong coverage.\n",
    " */\n",
    "pattern stronglyCovered(element: NamedElement) {\n",
    "    find util.sysml.sysmlRequirement_SatisfiedBy(_, element);\n",
    "} or {\n",
    "    find util.sysml.sysmlRequirement_VerifiedBy(_, element);\n",
    "} or {\n",
    "    find util.sysml.sysmlRequirement_TracedTo(_, element);\n",
    "}\n",
    "/* \n",
    " * Identifies elements that are NOT strongly covered, \n",
    " * but are reachable from a strongly covered element \n",
    " * using one or more custom propagation steps\n",
    " */\n",
    "pattern weaklyCovered(element: NamedElement) {\n",
    "    find stronglyCovered(otherElement);\n",
    "    find coveragePropagates+(otherElement, element);\n",
    "    neg find stronglyCovered(element);\n",
    "}\n",
    "/* \n",
    " * Defines custom coverage propagation steps, where \n",
    " * coverage of a 'from' element automatically implies weak coverage of a 'to' element.\n",
    " * This definition may be customized according to in-house propagation rules.\n",
    " */\n",
    "pattern coveragePropagates(from: NamedElement, to: NamedElement) {\n",
    "    // from container to contained part\n",
    "    Property.owner(part, from);\n",
    "    Property.aggregation(part, ::composite);\n",
    "    TypedElement.type(part, to);\n",
    "} or { \n",
    "    // from general superclassifier / block to specific block\n",
    "    Generalization.general(gen, from);\n",
    "    Generalization.specific(gen, to);\n",
    "}\n",
    "\n",
    "// SECTION 3: helper queries to assemble a report on (transitive) package contents\n",
    "\n",
    "/* \n",
    " * Associates SysML Blocks with UML packages directly or indirectly containing them.\n",
    " */\n",
    "pattern blockInPackage(block: Class, pack: Package) {\n",
    "    find util.sysml.sysmlBlock(block, _);    \n",
    "    Element.owner+(block, pack);\n",
    "}\n",
    "/* \n",
    " * Associates strongly covered Blocks with UML packages directly or indirectly containing them.\n",
    " */\n",
    "pattern stronglyCoveredBlockInPackage(block: Class, pack: Package) {\n",
    "    find stronglyCovered(block);    \n",
    "    find blockInPackage(block, pack);\n",
    "}\n",
    "/* \n",
    " * Associates weakly covered Blocks with UML packages directly or indirectly containing them.\n",
    " */\n",
    "pattern weaklyCoveredBlockInPackage(block: Class, pack: Package) {\n",
    "    find weaklyCovered(block);    \n",
    "    find blockInPackage(block, pack);\n",
    "}\n",
    "\n",
    "\n",
    "'''"
   ]
  },
  {
   "cell_type": "markdown",
   "metadata": {},
   "source": [
    "Queries need to be registered on the server before they can be evaluated. _Note: you need elevated privileges to be able to register new queries; for the guest user in this demo, the next part will only work if the query has already been registered; otherwise you will receive a '403 Forbidden' error._"
   ]
  },
  {
   "cell_type": "code",
   "execution_count": null,
   "metadata": {
    "code_folding": [],
    "scrolled": false
   },
   "outputs": [],
   "source": [
    "if coverage_query_main not in iqs.queries.list_queries().query_fq_ns: # skip if already registered\n",
    "    try: \n",
    "        iqs.queries.register_queries_plain_text(coverage_query_code, query_package=coverage_query_package)\n",
    "    except: \n",
    "        print(\"Query registration not available as guest user; please try again in a few minutes\")\n",
    "else:\n",
    "    print(\"Query is already registered; proceed\")"
   ]
  },
  {
   "cell_type": "markdown",
   "metadata": {},
   "source": [
    "To verify, see which queries are registered and ready for execution:"
   ]
  },
  {
   "cell_type": "code",
   "execution_count": null,
   "metadata": {},
   "outputs": [],
   "source": [
    "iqs.queries.list_queries()"
   ]
  },
  {
   "cell_type": "markdown",
   "metadata": {},
   "source": [
    "#### Execute pre-registered query and process results"
   ]
  },
  {
   "cell_type": "markdown",
   "metadata": {},
   "source": [
    "Before executing the query, we make sure that it query is served as a standing query. This means that it is evaluated once, and then results are provided instantaneously for any subsequent requests.\n",
    "\n",
    "This might take a few seconds if you are the first user to run the following command on this IQS server instance and this model. For subsequent invocations, even by other users, this preparation will return immediately."
   ]
  },
  {
   "cell_type": "code",
   "execution_count": null,
   "metadata": {},
   "outputs": [],
   "source": [
    "from iqs_jupyter import schema\n",
    "display(iqs.query_execution.prepare_standing_queries_on_model_compartment(\n",
    "    schema.QueryFQNListWithModelCompartment(\n",
    "      model_compartment = model,\n",
    "      query_fq_ns = [coverage_query_main]\n",
    "    )))"
   ]
  },
  {
   "cell_type": "markdown",
   "metadata": {},
   "source": [
    "We will now request the results of the previusly registered query. "
   ]
  },
  {
   "cell_type": "code",
   "execution_count": null,
   "metadata": {
    "code_folding": [],
    "scrolled": true
   },
   "outputs": [],
   "source": [
    "qResults = iqs.query_execution.execute_query_on_model_compartment(\n",
    "    schema.ExecuteQueryOnCompartmentRequest(\n",
    "      model_compartment = model,\n",
    "      query_fqn = coverage_query_main,\n",
    "      query_mode = \"standing\"\n",
    "    ))\n",
    "qResults"
   ]
  },
  {
   "cell_type": "markdown",
   "metadata": {},
   "source": [
    "#### Visualize query results using Pandas dataframes and Plot.ly"
   ]
  },
  {
   "cell_type": "markdown",
   "metadata": {},
   "source": [
    "Setting up Cufflinks for Pandas/Plot.ly visualization:"
   ]
  },
  {
   "cell_type": "code",
   "execution_count": null,
   "metadata": {
    "scrolled": true
   },
   "outputs": [],
   "source": [
    "import cufflinks as cf\n",
    "cf.go_offline()"
   ]
  },
  {
   "cell_type": "markdown",
   "metadata": {},
   "source": [
    "The following block query renders results in Pandas dataframe format, ready for complex client-side preprocessing:"
   ]
  },
  {
   "cell_type": "code",
   "execution_count": null,
   "metadata": {},
   "outputs": [],
   "source": [
    "qResults_df = qResults.to_data_frame().query('totalBlocks != 0')\n",
    "qResults_df['pack'] = qResults_df['pack'].apply(lambda element: element.relative_element_id)\n",
    "qResults_df.set_index('pack', inplace=True)\n",
    "qResults_df['nonCovered'] = qResults_df['totalBlocks'] - qResults_df['stronglyCovered'] - - qResults_df['weaklyCovered'] "
   ]
  },
  {
   "cell_type": "markdown",
   "metadata": {},
   "source": [
    "Visualize the output using Plot.ly:"
   ]
  },
  {
   "cell_type": "code",
   "execution_count": null,
   "metadata": {},
   "outputs": [],
   "source": [
    "qResults_df.sort_values(by='totalBlocks', ascending=False).drop('totalBlocks', axis=1).iplot(\n",
    "    kind='bar', barmode='stack', filename='cufflinks/categorical-bar-chart/coverage',\n",
    "    yTitle='Blocks in Package Traced to Requirements', title='Coverage Report',\n",
    ")"
   ]
  },
  {
   "cell_type": "markdown",
   "metadata": {},
   "source": [
    "#### Extract individual model elements, execute queries with parameter bindings"
   ]
  },
  {
   "cell_type": "markdown",
   "metadata": {},
   "source": [
    "Descriptors of individual model elements can be extracted into Python variables from query results..."
   ]
  },
  {
   "cell_type": "code",
   "execution_count": null,
   "metadata": {},
   "outputs": [],
   "source": [
    "first_result_element = qResults.to_list_of_matches()[0]['pack']\n",
    "first_result_element"
   ]
  },
  {
   "cell_type": "markdown",
   "metadata": {},
   "source": [
    "...alternatively, model element descriptors can be directly constructed using element identifiers:"
   ]
  },
  {
   "cell_type": "code",
   "execution_count": null,
   "metadata": {},
   "outputs": [],
   "source": [
    "some_element = model.get_element_in_compartment_by_id(\"_18_0_2_baa02e2_1421374069634_721435_78319\") \n",
    "some_element"
   ]
  },
  {
   "cell_type": "markdown",
   "metadata": {},
   "source": [
    "Model elements or simple values can be used as parameter bindings to restrict the requested results:"
   ]
  },
  {
   "cell_type": "code",
   "execution_count": null,
   "metadata": {},
   "outputs": [],
   "source": [
    "from iqs_jupyter import binding\n",
    "qResults_restricted = iqs.query_execution.execute_query_on_model_compartment(\n",
    "    schema.ExecuteQueryOnCompartmentRequest(\n",
    "        model_compartment = model,\n",
    "        query_fqn = coverage_query_main,\n",
    "        query_mode = \"standing\",\n",
    "        parameter_binding = binding(pack=first_result_element)\n",
    "    ))\n",
    "qResults_restricted"
   ]
  },
  {
   "cell_type": "markdown",
   "metadata": {},
   "source": [
    "### Browsing individual model elements and properties (requires connection to MMS)"
   ]
  },
  {
   "cell_type": "markdown",
   "metadata": {},
   "source": [
    "This short demo section can actually be run without executing any of the code above."
   ]
  },
  {
   "cell_type": "markdown",
   "metadata": {},
   "source": [
    "First, connect to the MMS server."
   ]
  },
  {
   "cell_type": "code",
   "execution_count": null,
   "metadata": {
    "scrolled": false
   },
   "outputs": [],
   "source": [
    "import iqs_jupyter # if not already imported\n",
    "mms = iqs_jupyter.MMSClient(\n",
    "    address = \"https://mms.openmbee.org/alfresco/service\",\n",
    "    user = \"openmbeeguest\",\n",
    "    password= \"guest\"\n",
    ")"
   ]
  },
  {
   "cell_type": "markdown",
   "metadata": {},
   "source": [
    "Display element information either for an element at specified commit and with specified id, or for a previously obtained model element handle. Browse through attributes and element references. Note: some element references are not shown due to MMS limitations."
   ]
  },
  {
   "cell_type": "code",
   "execution_count": null,
   "metadata": {},
   "outputs": [],
   "source": [
    "element_info_widget = mms.helpers.show_element_info_widget(\n",
    " org_id     = '9ff6af30-af8a-4f9d-a26b-499010ba5b6e',\n",
    " project_id = 'PROJECT-0e791c0e-16fe-422f-8f85-462ab035ce99',\n",
    " ref_id     = 'master',\n",
    " commit_id  = '0e4c90e2-ee9d-4d7e-9d90-e7fb7bb2c0c8',\n",
    " element    = '_18_0_2_baa02e2_1421374069634_721435_78319'\n",
    ")\n",
    "# alternatively, use the already available model element handle\n",
    "# element_info_widget = mms.helpers.show_element_info_widget(some_element)\n",
    "element_info_widget.display()"
   ]
  },
  {
   "cell_type": "markdown",
   "metadata": {},
   "source": [
    "The element currently selected ('opened') in the widget can be obtained for further processing."
   ]
  },
  {
   "cell_type": "code",
   "execution_count": null,
   "metadata": {},
   "outputs": [],
   "source": [
    "element_info_widget.selected_element()"
   ]
  },
  {
   "cell_type": "markdown",
   "metadata": {},
   "source": [
    "### Sandbox"
   ]
  },
  {
   "cell_type": "code",
   "execution_count": null,
   "metadata": {},
   "outputs": [],
   "source": []
  },
  {
   "cell_type": "markdown",
   "metadata": {
    "heading_collapsed": true
   },
   "source": [
    "## Extra section for privileged users\n",
    "Do not forget to specify your privileged credentials at the top of the notebook, in the first code cell"
   ]
  },
  {
   "cell_type": "markdown",
   "metadata": {
    "hidden": true
   },
   "source": [
    "### Repository management, indexing commits"
   ]
  },
  {
   "cell_type": "markdown",
   "metadata": {
    "hidden": true
   },
   "source": [
    "Force the server to refresh its knowledge of commits in the repository:"
   ]
  },
  {
   "cell_type": "code",
   "execution_count": null,
   "metadata": {
    "code_folding": [],
    "hidden": true,
    "scrolled": true
   },
   "outputs": [],
   "source": [
    "iqs.mms_repository.update_mms_repository()"
   ]
  },
  {
   "cell_type": "markdown",
   "metadata": {
    "hidden": true
   },
   "source": [
    "Index another model from the repository, and then load the index into server memory:"
   ]
  },
  {
   "cell_type": "code",
   "execution_count": null,
   "metadata": {
    "hidden": true
   },
   "outputs": [],
   "source": [
    "iqs.persistent_index.index_model_compartment(model)"
   ]
  },
  {
   "cell_type": "code",
   "execution_count": null,
   "metadata": {
    "hidden": true,
    "scrolled": true
   },
   "outputs": [],
   "source": [
    "iqs.in_memory_index.load_model_compartment(model)"
   ]
  },
  {
   "cell_type": "markdown",
   "metadata": {
    "hidden": true
   },
   "source": [
    "### Sandbox"
   ]
  },
  {
   "cell_type": "code",
   "execution_count": null,
   "metadata": {
    "hidden": true
   },
   "outputs": [],
   "source": []
  }
 ],
 "metadata": {
  "kernelspec": {
   "display_name": "Python 3",
   "language": "python",
   "name": "python3"
  },
  "language_info": {
   "codemirror_mode": {
    "name": "ipython",
    "version": 3
   },
   "file_extension": ".py",
   "mimetype": "text/x-python",
   "name": "python",
   "nbconvert_exporter": "python",
   "pygments_lexer": "ipython3",
   "version": "3.7.3"
  },
  "widgets": {
   "application/vnd.jupyter.widget-state+json": {
    "state": {
     "211e3fc98297499e99515b3410e9f734": {
      "model_module": "@jupyter-widgets/base",
      "model_module_version": "1.1.0",
      "model_name": "LayoutModel",
      "state": {}
     },
     "2ddc34746d7349e5ab4fba57cfa690f1": {
      "model_module": "@jupyter-widgets/controls",
      "model_module_version": "1.4.0",
      "model_name": "DropdownModel",
      "state": {
       "_options_labels": [
        "---- Select commit",
        "2019-06-24 11:48:57 (ID: 0e4c90e2-ee9d-4d7e-9d90-e7fb7bb2c0c8)",
        "2019-06-24 10:57:54 (ID: 51f09858-5337-4cdd-90bd-027120bd39e7)",
        "2019-06-12 14:56:28 (ID: 8598d33b-4950-4355-a404-18b0d8148b47)"
       ],
       "index": 1,
       "layout": "IPY_MODEL_b8a2cde3502448a6ae52b3b558de2a12",
       "style": "IPY_MODEL_5684d3550b7b4e009ed925f42a32c18b"
      }
     },
     "3b082fd4deeb492c9c3ba4b8f445e919": {
      "model_module": "@jupyter-widgets/base",
      "model_module_version": "1.1.0",
      "model_name": "LayoutModel",
      "state": {}
     },
     "423b2ae9cc04448e8c6b90dadaef2914": {
      "model_module": "@jupyter-widgets/base",
      "model_module_version": "1.1.0",
      "model_name": "LayoutModel",
      "state": {}
     },
     "479c03d03b8f42e7a281ac66e731a879": {
      "model_module": "@jupyter-widgets/controls",
      "model_module_version": "1.4.0",
      "model_name": "LabelModel",
      "state": {
       "layout": "IPY_MODEL_211e3fc98297499e99515b3410e9f734",
       "style": "IPY_MODEL_ab1cc7ba3b5f444989a8eb280126f28c",
       "value": "project"
      }
     },
     "480f2e2c3d8644d39ac000bd8263e927": {
      "model_module": "@jupyter-widgets/base",
      "model_module_version": "1.1.0",
      "model_name": "LayoutModel",
      "state": {}
     },
     "5684d3550b7b4e009ed925f42a32c18b": {
      "model_module": "@jupyter-widgets/controls",
      "model_module_version": "1.4.0",
      "model_name": "DescriptionStyleModel",
      "state": {
       "description_width": ""
      }
     },
     "7000f47850794659af668aabbf3a9b71": {
      "model_module": "@jupyter-widgets/controls",
      "model_module_version": "1.4.0",
      "model_name": "DescriptionStyleModel",
      "state": {
       "description_width": ""
      }
     },
     "75590ca4b04e43a291c04c401aae1ddd": {
      "model_module": "@jupyter-widgets/base",
      "model_module_version": "1.1.0",
      "model_name": "LayoutModel",
      "state": {}
     },
     "760cf62c32fb41959c9094cd911fb7d6": {
      "model_module": "@jupyter-widgets/controls",
      "model_module_version": "1.4.0",
      "model_name": "DropdownModel",
      "state": {
       "_options_labels": [
        "---- Select org",
        "IQS4MMS Demos (ID: 9ff6af30-af8a-4f9d-a26b-499010ba5b6e)"
       ],
       "index": 1,
       "layout": "IPY_MODEL_cc794bf07298416b9c940e1c0303c69a",
       "style": "IPY_MODEL_7c60de6dbd54446ea28f39fbcabf8db2"
      }
     },
     "7c60de6dbd54446ea28f39fbcabf8db2": {
      "model_module": "@jupyter-widgets/controls",
      "model_module_version": "1.4.0",
      "model_name": "DescriptionStyleModel",
      "state": {
       "description_width": ""
      }
     },
     "7dd0722722514e10aacbdcf91efed66d": {
      "model_module": "@jupyter-widgets/controls",
      "model_module_version": "1.4.0",
      "model_name": "DescriptionStyleModel",
      "state": {
       "description_width": ""
      }
     },
     "8071fff5b2cb4f62bec8ceea9ad645fa": {
      "model_module": "@jupyter-widgets/controls",
      "model_module_version": "1.4.0",
      "model_name": "DropdownModel",
      "state": {
       "_options_labels": [
        "---- Select project",
        "Validation_UML_Example (ID: PROJECT-d0c236d9-186a-485c-9c67-9e6693d1f0d8)",
        "TMT (ID: PROJECT-0e791c0e-16fe-422f-8f85-462ab035ce99)"
       ],
       "index": 2,
       "layout": "IPY_MODEL_480f2e2c3d8644d39ac000bd8263e927",
       "style": "IPY_MODEL_ca0040032a8e4676bc84ff3a033e47d5"
      }
     },
     "87658b4a59e14b9fb5380e328a61a84f": {
      "model_module": "@jupyter-widgets/base",
      "model_module_version": "1.1.0",
      "model_name": "LayoutModel",
      "state": {}
     },
     "888b0c5135174809a355381311ba4ec7": {
      "model_module": "@jupyter-widgets/controls",
      "model_module_version": "1.4.0",
      "model_name": "LabelModel",
      "state": {
       "layout": "IPY_MODEL_87658b4a59e14b9fb5380e328a61a84f",
       "style": "IPY_MODEL_d394bc289e1741a1a28608bd520b3f46",
       "value": "commit"
      }
     },
     "a30a6e3f93ab4b7f97496f6c01daf3ee": {
      "model_module": "@jupyter-widgets/controls",
      "model_module_version": "1.4.0",
      "model_name": "VBoxModel",
      "state": {
       "children": [
        "IPY_MODEL_e09fa0e9b6ae47f194c83d5aaf559749",
        "IPY_MODEL_479c03d03b8f42e7a281ac66e731a879",
        "IPY_MODEL_f1f8ac15e67941bc98918a7d4e846601",
        "IPY_MODEL_888b0c5135174809a355381311ba4ec7"
       ],
       "layout": "IPY_MODEL_75590ca4b04e43a291c04c401aae1ddd"
      }
     },
     "ab1cc7ba3b5f444989a8eb280126f28c": {
      "model_module": "@jupyter-widgets/controls",
      "model_module_version": "1.4.0",
      "model_name": "DescriptionStyleModel",
      "state": {
       "description_width": ""
      }
     },
     "b7102a2d93294e058ad34be52bf6cedd": {
      "model_module": "@jupyter-widgets/controls",
      "model_module_version": "1.4.0",
      "model_name": "DescriptionStyleModel",
      "state": {
       "description_width": ""
      }
     },
     "b8a2cde3502448a6ae52b3b558de2a12": {
      "model_module": "@jupyter-widgets/base",
      "model_module_version": "1.1.0",
      "model_name": "LayoutModel",
      "state": {}
     },
     "c869ef979c204831ba2d4cb306c80ed0": {
      "model_module": "@jupyter-widgets/base",
      "model_module_version": "1.1.0",
      "model_name": "LayoutModel",
      "state": {}
     },
     "c913303482ea4ed58f4441227d00ed7c": {
      "model_module": "@jupyter-widgets/base",
      "model_module_version": "1.1.0",
      "model_name": "LayoutModel",
      "state": {}
     },
     "ca0040032a8e4676bc84ff3a033e47d5": {
      "model_module": "@jupyter-widgets/controls",
      "model_module_version": "1.4.0",
      "model_name": "DescriptionStyleModel",
      "state": {
       "description_width": ""
      }
     },
     "cc794bf07298416b9c940e1c0303c69a": {
      "model_module": "@jupyter-widgets/base",
      "model_module_version": "1.1.0",
      "model_name": "LayoutModel",
      "state": {}
     },
     "cd307892b2904e69b4255c5b48c422c2": {
      "model_module": "@jupyter-widgets/controls",
      "model_module_version": "1.4.0",
      "model_name": "VBoxModel",
      "state": {
       "children": [
        "IPY_MODEL_760cf62c32fb41959c9094cd911fb7d6",
        "IPY_MODEL_8071fff5b2cb4f62bec8ceea9ad645fa",
        "IPY_MODEL_ff65a8c7bc384983932833d99d0a47f6",
        "IPY_MODEL_2ddc34746d7349e5ab4fba57cfa690f1"
       ],
       "layout": "IPY_MODEL_c913303482ea4ed58f4441227d00ed7c"
      }
     },
     "d394bc289e1741a1a28608bd520b3f46": {
      "model_module": "@jupyter-widgets/controls",
      "model_module_version": "1.4.0",
      "model_name": "DescriptionStyleModel",
      "state": {
       "description_width": ""
      }
     },
     "dd4d44c82e804f7899685472e7e17650": {
      "model_module": "@jupyter-widgets/base",
      "model_module_version": "1.1.0",
      "model_name": "LayoutModel",
      "state": {}
     },
     "e09fa0e9b6ae47f194c83d5aaf559749": {
      "model_module": "@jupyter-widgets/controls",
      "model_module_version": "1.4.0",
      "model_name": "LabelModel",
      "state": {
       "layout": "IPY_MODEL_dd4d44c82e804f7899685472e7e17650",
       "style": "IPY_MODEL_b7102a2d93294e058ad34be52bf6cedd",
       "value": "org"
      }
     },
     "f1f8ac15e67941bc98918a7d4e846601": {
      "model_module": "@jupyter-widgets/controls",
      "model_module_version": "1.4.0",
      "model_name": "LabelModel",
      "state": {
       "layout": "IPY_MODEL_3b082fd4deeb492c9c3ba4b8f445e919",
       "style": "IPY_MODEL_7dd0722722514e10aacbdcf91efed66d",
       "value": "ref"
      }
     },
     "fe43ca40e9694b58b872aa47fa6ef78b": {
      "model_module": "@jupyter-widgets/controls",
      "model_module_version": "1.4.0",
      "model_name": "HBoxModel",
      "state": {
       "children": [
        "IPY_MODEL_a30a6e3f93ab4b7f97496f6c01daf3ee",
        "IPY_MODEL_cd307892b2904e69b4255c5b48c422c2"
       ],
       "layout": "IPY_MODEL_423b2ae9cc04448e8c6b90dadaef2914"
      }
     },
     "ff65a8c7bc384983932833d99d0a47f6": {
      "model_module": "@jupyter-widgets/controls",
      "model_module_version": "1.4.0",
      "model_name": "DropdownModel",
      "state": {
       "_options_labels": [
        "---- Select ref",
        "master (ID: master)"
       ],
       "index": 1,
       "layout": "IPY_MODEL_c869ef979c204831ba2d4cb306c80ed0",
       "style": "IPY_MODEL_7000f47850794659af668aabbf3a9b71"
      }
     }
    },
    "version_major": 2,
    "version_minor": 0
   }
  }
 },
 "nbformat": 4,
 "nbformat_minor": 2
}
